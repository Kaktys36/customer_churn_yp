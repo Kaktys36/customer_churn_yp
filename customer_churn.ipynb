{
 "cells": [
  {
   "cell_type": "markdown",
   "id": "79e347cb",
   "metadata": {
    "toc": true
   },
   "source": [
    "<h1>Table of Contents<span class=\"tocSkip\"></span></h1>\n",
    "<div class=\"toc\"><ul class=\"toc-item\"><li><span><a href=\"#Загрузка-данных-и-их-просмотр\" data-toc-modified-id=\"Загрузка-данных-и-их-просмотр-1\"><span class=\"toc-item-num\">1&nbsp;&nbsp;</span>Загрузка данных и их просмотр</a></span></li><li><span><a href=\"#Подготовка-данных\" data-toc-modified-id=\"Подготовка-данных-2\"><span class=\"toc-item-num\">2&nbsp;&nbsp;</span>Подготовка данных</a></span><ul class=\"toc-item\"><li><span><a href=\"#Разбивка-на-выборки\" data-toc-modified-id=\"Разбивка-на-выборки-2.1\"><span class=\"toc-item-num\">2.1&nbsp;&nbsp;</span>Разбивка на выборки</a></span></li><li><span><a href=\"#Кодирование\" data-toc-modified-id=\"Кодирование-2.2\"><span class=\"toc-item-num\">2.2&nbsp;&nbsp;</span>Кодирование</a></span></li><li><span><a href=\"#Масштабирование-данных\" data-toc-modified-id=\"Масштабирование-данных-2.3\"><span class=\"toc-item-num\">2.3&nbsp;&nbsp;</span>Масштабирование данных</a></span></li></ul></li><li><span><a href=\"#Исследование-задачи\" data-toc-modified-id=\"Исследование-задачи-3\"><span class=\"toc-item-num\">3&nbsp;&nbsp;</span>Исследование задачи</a></span><ul class=\"toc-item\"><li><span><a href=\"#LogisticRegression\" data-toc-modified-id=\"LogisticRegression-3.1\"><span class=\"toc-item-num\">3.1&nbsp;&nbsp;</span>LogisticRegression</a></span></li><li><span><a href=\"#DecisionTreeClassifier\" data-toc-modified-id=\"DecisionTreeClassifier-3.2\"><span class=\"toc-item-num\">3.2&nbsp;&nbsp;</span>DecisionTreeClassifier</a></span></li><li><span><a href=\"#RandomForestClassifier\" data-toc-modified-id=\"RandomForestClassifier-3.3\"><span class=\"toc-item-num\">3.3&nbsp;&nbsp;</span>RandomForestClassifier</a></span></li></ul></li><li><span><a href=\"#Борьба-с-дисбалансом\" data-toc-modified-id=\"Борьба-с-дисбалансом-4\"><span class=\"toc-item-num\">4&nbsp;&nbsp;</span>Борьба с дисбалансом</a></span><ul class=\"toc-item\"><li><span><a href=\"#Изменение-веса-классов\" data-toc-modified-id=\"Изменение-веса-классов-4.1\"><span class=\"toc-item-num\">4.1&nbsp;&nbsp;</span>Изменение веса классов</a></span><ul class=\"toc-item\"><li><span><a href=\"#DecisionTreeClassifier\" data-toc-modified-id=\"DecisionTreeClassifier-4.1.1\"><span class=\"toc-item-num\">4.1.1&nbsp;&nbsp;</span>DecisionTreeClassifier</a></span></li><li><span><a href=\"#RandomForestClassifier\" data-toc-modified-id=\"RandomForestClassifier-4.1.2\"><span class=\"toc-item-num\">4.1.2&nbsp;&nbsp;</span>RandomForestClassifier</a></span></li></ul></li><li><span><a href=\"#SMOTE\" data-toc-modified-id=\"SMOTE-4.2\"><span class=\"toc-item-num\">4.2&nbsp;&nbsp;</span>SMOTE</a></span><ul class=\"toc-item\"><li><span><a href=\"#DecisionTreeClassifier\" data-toc-modified-id=\"DecisionTreeClassifier-4.2.1\"><span class=\"toc-item-num\">4.2.1&nbsp;&nbsp;</span>DecisionTreeClassifier</a></span></li><li><span><a href=\"#RandomForestClassifier\" data-toc-modified-id=\"RandomForestClassifier-4.2.2\"><span class=\"toc-item-num\">4.2.2&nbsp;&nbsp;</span>RandomForestClassifier</a></span></li></ul></li></ul></li><li><span><a href=\"#Тестирование-модели\" data-toc-modified-id=\"Тестирование-модели-5\"><span class=\"toc-item-num\">5&nbsp;&nbsp;</span>Тестирование модели</a></span></li></ul></div>"
   ]
  },
  {
   "cell_type": "markdown",
   "id": "054cf876",
   "metadata": {},
   "source": [
    "# Отток клиентов"
   ]
  },
  {
   "cell_type": "markdown",
   "id": "3e5a06e0",
   "metadata": {},
   "source": [
    "Описание проекта: из «Бета-Банка» стали уходить клиенты каждый месяц. Немного, но заметно. Банковские маркетологи посчитали: сохранять текущих клиентов дешевле, чем привлекать новых.\n",
    "\n",
    "Нужно спрогнозировать, уйдёт клиент из банка в ближайшее время или нет. Нам предоставлены исторические данные о поведении клиентов и расторжении договоров с банком. \n",
    "\n",
    "Цель проекта: построить модель с предельно большим значением *F1*-меры. Будем считать цель выполненной, когда *F1*-мера будет больше 0.59. \n",
    "\n",
    "Дополнительно измерим *AUC-ROC* и сравним её значение с *F1*-мерой.\n",
    "Описание столбцов:\n",
    "- Признаки:\n",
    " - RowNumber — индекс строки в данных\n",
    " - CustomerId — уникальный идентификатор клиента\n",
    " - Surname — фамилия\n",
    " - CreditScore — кредитный рейтинг\n",
    " - Geography — страна проживания\n",
    " - Gender — пол\n",
    " - Age — возраст\n",
    " - Tenure — сколько лет человек является клиентом банка\n",
    " - Balance — баланс на счёте\n",
    " - NumOfProducts — количество продуктов банка, используемых клиентом\n",
    " - HasCrCard — наличие кредитной карты\n",
    " - IsActiveMember — активность клиента\n",
    " - EstimatedSalary — предполагаемая зарплата\n",
    " \n",
    " \n",
    "- Целевой признак:\n",
    " - Exited — факт ухода клиента\n",
    "\n",
    "Наметим план проекта:\n",
    "- Откроем файл с данными и изучим его. \n",
    "- Подготовим данные. \n",
    " - Закодируем категориальные данные.\n",
    " - Масштабируем численные данные.\n",
    " - Разобьём данные на выборки.\n",
    "- В процессе изучим баланс классов.\n",
    "- Изучим модели без учёта дисбаланса классов.\n",
    "- Применим методы борьбы с дисбалансом классов.\n",
    "- Подберём лучшую модель и её гиперпараметры.\n",
    "- Проверим качество модели на тестовой выборке.\n",
    "- Исследуем метрику *AUC-ROC*.\n",
    "- Проверим модель на вменяемость.  "
   ]
  },
  {
   "cell_type": "markdown",
   "id": "102b529e",
   "metadata": {},
   "source": [
    "## Загрузка данных и их просмотр"
   ]
  },
  {
   "cell_type": "code",
   "execution_count": 2,
   "id": "579e807e",
   "metadata": {},
   "outputs": [
    {
     "name": "stdout",
     "output_type": "stream",
     "text": [
      "Requirement already satisfied: scikit-learn==1.1.3 in c:\\users\\ivan govnov\\anaconda3\\lib\\site-packages (1.1.3)\n",
      "Requirement already satisfied: scipy>=1.3.2 in c:\\users\\ivan govnov\\anaconda3\\lib\\site-packages (from scikit-learn==1.1.3) (1.9.1)\n",
      "Requirement already satisfied: joblib>=1.0.0 in c:\\users\\ivan govnov\\anaconda3\\lib\\site-packages (from scikit-learn==1.1.3) (1.2.0)\n",
      "Requirement already satisfied: numpy>=1.17.3 in c:\\users\\ivan govnov\\anaconda3\\lib\\site-packages (from scikit-learn==1.1.3) (1.21.5)\n",
      "Requirement already satisfied: threadpoolctl>=2.0.0 in c:\\users\\ivan govnov\\anaconda3\\lib\\site-packages (from scikit-learn==1.1.3) (2.2.0)\n",
      "Requirement already satisfied: imblearn in c:\\users\\ivan govnov\\anaconda3\\lib\\site-packages (0.0)\n",
      "Requirement already satisfied: imbalanced-learn in c:\\users\\ivan govnov\\anaconda3\\lib\\site-packages (from imblearn) (0.10.1)\n",
      "Requirement already satisfied: numpy>=1.17.3 in c:\\users\\ivan govnov\\anaconda3\\lib\\site-packages (from imbalanced-learn->imblearn) (1.21.5)\n",
      "Requirement already satisfied: scipy>=1.3.2 in c:\\users\\ivan govnov\\anaconda3\\lib\\site-packages (from imbalanced-learn->imblearn) (1.9.1)\n",
      "Requirement already satisfied: joblib>=1.1.1 in c:\\users\\ivan govnov\\anaconda3\\lib\\site-packages (from imbalanced-learn->imblearn) (1.2.0)\n",
      "Requirement already satisfied: scikit-learn>=1.0.2 in c:\\users\\ivan govnov\\anaconda3\\lib\\site-packages (from imbalanced-learn->imblearn) (1.1.3)\n",
      "Requirement already satisfied: threadpoolctl>=2.0.0 in c:\\users\\ivan govnov\\anaconda3\\lib\\site-packages (from imbalanced-learn->imblearn) (2.2.0)\n"
     ]
    }
   ],
   "source": [
    "!pip install scikit-learn==1.1.3\n",
    "!pip install imblearn\n",
    "\n",
    "import matplotlib.pyplot as plt\n",
    "import pandas as pd\n",
    "import warnings\n",
    "warnings.filterwarnings(\"ignore\")\n",
    "\n",
    "from imblearn.over_sampling import SMOTE\n",
    "from sklearn.dummy import DummyClassifier\n",
    "from sklearn.ensemble import RandomForestClassifier\n",
    "from sklearn.linear_model import LogisticRegression\n",
    "from sklearn.metrics import f1_score, roc_auc_score, accuracy_score\n",
    "from sklearn.model_selection import GridSearchCV\n",
    "from sklearn.model_selection import train_test_split\n",
    "from sklearn.preprocessing import OneHotEncoder\n",
    "from sklearn.preprocessing import StandardScaler\n",
    "from sklearn.tree import DecisionTreeClassifier\n",
    "from sklearn.utils import shuffle"
   ]
  },
  {
   "cell_type": "markdown",
   "id": "a0c33e3a",
   "metadata": {},
   "source": [
    "Загрузим все необходимые нам для работы библиотеки и их разделы. "
   ]
  },
  {
   "cell_type": "code",
   "execution_count": 3,
   "id": "b6524e51",
   "metadata": {},
   "outputs": [
    {
     "data": {
      "text/html": [
       "<div>\n",
       "<style scoped>\n",
       "    .dataframe tbody tr th:only-of-type {\n",
       "        vertical-align: middle;\n",
       "    }\n",
       "\n",
       "    .dataframe tbody tr th {\n",
       "        vertical-align: top;\n",
       "    }\n",
       "\n",
       "    .dataframe thead th {\n",
       "        text-align: right;\n",
       "    }\n",
       "</style>\n",
       "<table border=\"1\" class=\"dataframe\">\n",
       "  <thead>\n",
       "    <tr style=\"text-align: right;\">\n",
       "      <th></th>\n",
       "      <th>RowNumber</th>\n",
       "      <th>CustomerId</th>\n",
       "      <th>Surname</th>\n",
       "      <th>CreditScore</th>\n",
       "      <th>Geography</th>\n",
       "      <th>Gender</th>\n",
       "      <th>Age</th>\n",
       "      <th>Tenure</th>\n",
       "      <th>Balance</th>\n",
       "      <th>NumOfProducts</th>\n",
       "      <th>HasCrCard</th>\n",
       "      <th>IsActiveMember</th>\n",
       "      <th>EstimatedSalary</th>\n",
       "      <th>Exited</th>\n",
       "    </tr>\n",
       "  </thead>\n",
       "  <tbody>\n",
       "    <tr>\n",
       "      <th>0</th>\n",
       "      <td>1</td>\n",
       "      <td>15634602</td>\n",
       "      <td>Hargrave</td>\n",
       "      <td>619</td>\n",
       "      <td>France</td>\n",
       "      <td>Female</td>\n",
       "      <td>42</td>\n",
       "      <td>2.0</td>\n",
       "      <td>0.00</td>\n",
       "      <td>1</td>\n",
       "      <td>1</td>\n",
       "      <td>1</td>\n",
       "      <td>101348.88</td>\n",
       "      <td>1</td>\n",
       "    </tr>\n",
       "    <tr>\n",
       "      <th>1</th>\n",
       "      <td>2</td>\n",
       "      <td>15647311</td>\n",
       "      <td>Hill</td>\n",
       "      <td>608</td>\n",
       "      <td>Spain</td>\n",
       "      <td>Female</td>\n",
       "      <td>41</td>\n",
       "      <td>1.0</td>\n",
       "      <td>83807.86</td>\n",
       "      <td>1</td>\n",
       "      <td>0</td>\n",
       "      <td>1</td>\n",
       "      <td>112542.58</td>\n",
       "      <td>0</td>\n",
       "    </tr>\n",
       "    <tr>\n",
       "      <th>2</th>\n",
       "      <td>3</td>\n",
       "      <td>15619304</td>\n",
       "      <td>Onio</td>\n",
       "      <td>502</td>\n",
       "      <td>France</td>\n",
       "      <td>Female</td>\n",
       "      <td>42</td>\n",
       "      <td>8.0</td>\n",
       "      <td>159660.80</td>\n",
       "      <td>3</td>\n",
       "      <td>1</td>\n",
       "      <td>0</td>\n",
       "      <td>113931.57</td>\n",
       "      <td>1</td>\n",
       "    </tr>\n",
       "    <tr>\n",
       "      <th>3</th>\n",
       "      <td>4</td>\n",
       "      <td>15701354</td>\n",
       "      <td>Boni</td>\n",
       "      <td>699</td>\n",
       "      <td>France</td>\n",
       "      <td>Female</td>\n",
       "      <td>39</td>\n",
       "      <td>1.0</td>\n",
       "      <td>0.00</td>\n",
       "      <td>2</td>\n",
       "      <td>0</td>\n",
       "      <td>0</td>\n",
       "      <td>93826.63</td>\n",
       "      <td>0</td>\n",
       "    </tr>\n",
       "    <tr>\n",
       "      <th>4</th>\n",
       "      <td>5</td>\n",
       "      <td>15737888</td>\n",
       "      <td>Mitchell</td>\n",
       "      <td>850</td>\n",
       "      <td>Spain</td>\n",
       "      <td>Female</td>\n",
       "      <td>43</td>\n",
       "      <td>2.0</td>\n",
       "      <td>125510.82</td>\n",
       "      <td>1</td>\n",
       "      <td>1</td>\n",
       "      <td>1</td>\n",
       "      <td>79084.10</td>\n",
       "      <td>0</td>\n",
       "    </tr>\n",
       "  </tbody>\n",
       "</table>\n",
       "</div>"
      ],
      "text/plain": [
       "   RowNumber  CustomerId   Surname  CreditScore Geography  Gender  Age  \\\n",
       "0          1    15634602  Hargrave          619    France  Female   42   \n",
       "1          2    15647311      Hill          608     Spain  Female   41   \n",
       "2          3    15619304      Onio          502    France  Female   42   \n",
       "3          4    15701354      Boni          699    France  Female   39   \n",
       "4          5    15737888  Mitchell          850     Spain  Female   43   \n",
       "\n",
       "   Tenure    Balance  NumOfProducts  HasCrCard  IsActiveMember  \\\n",
       "0     2.0       0.00              1          1               1   \n",
       "1     1.0   83807.86              1          0               1   \n",
       "2     8.0  159660.80              3          1               0   \n",
       "3     1.0       0.00              2          0               0   \n",
       "4     2.0  125510.82              1          1               1   \n",
       "\n",
       "   EstimatedSalary  Exited  \n",
       "0        101348.88       1  \n",
       "1        112542.58       0  \n",
       "2        113931.57       1  \n",
       "3         93826.63       0  \n",
       "4         79084.10       0  "
      ]
     },
     "metadata": {},
     "output_type": "display_data"
    },
    {
     "name": "stdout",
     "output_type": "stream",
     "text": [
      "<class 'pandas.core.frame.DataFrame'>\n",
      "RangeIndex: 10000 entries, 0 to 9999\n",
      "Data columns (total 14 columns):\n",
      " #   Column           Non-Null Count  Dtype  \n",
      "---  ------           --------------  -----  \n",
      " 0   RowNumber        10000 non-null  int64  \n",
      " 1   CustomerId       10000 non-null  int64  \n",
      " 2   Surname          10000 non-null  object \n",
      " 3   CreditScore      10000 non-null  int64  \n",
      " 4   Geography        10000 non-null  object \n",
      " 5   Gender           10000 non-null  object \n",
      " 6   Age              10000 non-null  int64  \n",
      " 7   Tenure           9091 non-null   float64\n",
      " 8   Balance          10000 non-null  float64\n",
      " 9   NumOfProducts    10000 non-null  int64  \n",
      " 10  HasCrCard        10000 non-null  int64  \n",
      " 11  IsActiveMember   10000 non-null  int64  \n",
      " 12  EstimatedSalary  10000 non-null  float64\n",
      " 13  Exited           10000 non-null  int64  \n",
      "dtypes: float64(3), int64(8), object(3)\n",
      "memory usage: 1.1+ MB\n"
     ]
    },
    {
     "data": {
      "text/html": [
       "<div>\n",
       "<style scoped>\n",
       "    .dataframe tbody tr th:only-of-type {\n",
       "        vertical-align: middle;\n",
       "    }\n",
       "\n",
       "    .dataframe tbody tr th {\n",
       "        vertical-align: top;\n",
       "    }\n",
       "\n",
       "    .dataframe thead th {\n",
       "        text-align: right;\n",
       "    }\n",
       "</style>\n",
       "<table border=\"1\" class=\"dataframe\">\n",
       "  <thead>\n",
       "    <tr style=\"text-align: right;\">\n",
       "      <th></th>\n",
       "      <th>RowNumber</th>\n",
       "      <th>CustomerId</th>\n",
       "      <th>CreditScore</th>\n",
       "      <th>Age</th>\n",
       "      <th>Tenure</th>\n",
       "      <th>Balance</th>\n",
       "      <th>NumOfProducts</th>\n",
       "      <th>HasCrCard</th>\n",
       "      <th>IsActiveMember</th>\n",
       "      <th>EstimatedSalary</th>\n",
       "      <th>Exited</th>\n",
       "    </tr>\n",
       "  </thead>\n",
       "  <tbody>\n",
       "    <tr>\n",
       "      <th>count</th>\n",
       "      <td>10000.00000</td>\n",
       "      <td>1.000000e+04</td>\n",
       "      <td>10000.000000</td>\n",
       "      <td>10000.000000</td>\n",
       "      <td>9091.000000</td>\n",
       "      <td>10000.000000</td>\n",
       "      <td>10000.000000</td>\n",
       "      <td>10000.00000</td>\n",
       "      <td>10000.000000</td>\n",
       "      <td>10000.000000</td>\n",
       "      <td>10000.000000</td>\n",
       "    </tr>\n",
       "    <tr>\n",
       "      <th>mean</th>\n",
       "      <td>5000.50000</td>\n",
       "      <td>1.569094e+07</td>\n",
       "      <td>650.528800</td>\n",
       "      <td>38.921800</td>\n",
       "      <td>4.997690</td>\n",
       "      <td>76485.889288</td>\n",
       "      <td>1.530200</td>\n",
       "      <td>0.70550</td>\n",
       "      <td>0.515100</td>\n",
       "      <td>100090.239881</td>\n",
       "      <td>0.203700</td>\n",
       "    </tr>\n",
       "    <tr>\n",
       "      <th>std</th>\n",
       "      <td>2886.89568</td>\n",
       "      <td>7.193619e+04</td>\n",
       "      <td>96.653299</td>\n",
       "      <td>10.487806</td>\n",
       "      <td>2.894723</td>\n",
       "      <td>62397.405202</td>\n",
       "      <td>0.581654</td>\n",
       "      <td>0.45584</td>\n",
       "      <td>0.499797</td>\n",
       "      <td>57510.492818</td>\n",
       "      <td>0.402769</td>\n",
       "    </tr>\n",
       "    <tr>\n",
       "      <th>min</th>\n",
       "      <td>1.00000</td>\n",
       "      <td>1.556570e+07</td>\n",
       "      <td>350.000000</td>\n",
       "      <td>18.000000</td>\n",
       "      <td>0.000000</td>\n",
       "      <td>0.000000</td>\n",
       "      <td>1.000000</td>\n",
       "      <td>0.00000</td>\n",
       "      <td>0.000000</td>\n",
       "      <td>11.580000</td>\n",
       "      <td>0.000000</td>\n",
       "    </tr>\n",
       "    <tr>\n",
       "      <th>25%</th>\n",
       "      <td>2500.75000</td>\n",
       "      <td>1.562853e+07</td>\n",
       "      <td>584.000000</td>\n",
       "      <td>32.000000</td>\n",
       "      <td>2.000000</td>\n",
       "      <td>0.000000</td>\n",
       "      <td>1.000000</td>\n",
       "      <td>0.00000</td>\n",
       "      <td>0.000000</td>\n",
       "      <td>51002.110000</td>\n",
       "      <td>0.000000</td>\n",
       "    </tr>\n",
       "    <tr>\n",
       "      <th>50%</th>\n",
       "      <td>5000.50000</td>\n",
       "      <td>1.569074e+07</td>\n",
       "      <td>652.000000</td>\n",
       "      <td>37.000000</td>\n",
       "      <td>5.000000</td>\n",
       "      <td>97198.540000</td>\n",
       "      <td>1.000000</td>\n",
       "      <td>1.00000</td>\n",
       "      <td>1.000000</td>\n",
       "      <td>100193.915000</td>\n",
       "      <td>0.000000</td>\n",
       "    </tr>\n",
       "    <tr>\n",
       "      <th>75%</th>\n",
       "      <td>7500.25000</td>\n",
       "      <td>1.575323e+07</td>\n",
       "      <td>718.000000</td>\n",
       "      <td>44.000000</td>\n",
       "      <td>7.000000</td>\n",
       "      <td>127644.240000</td>\n",
       "      <td>2.000000</td>\n",
       "      <td>1.00000</td>\n",
       "      <td>1.000000</td>\n",
       "      <td>149388.247500</td>\n",
       "      <td>0.000000</td>\n",
       "    </tr>\n",
       "    <tr>\n",
       "      <th>max</th>\n",
       "      <td>10000.00000</td>\n",
       "      <td>1.581569e+07</td>\n",
       "      <td>850.000000</td>\n",
       "      <td>92.000000</td>\n",
       "      <td>10.000000</td>\n",
       "      <td>250898.090000</td>\n",
       "      <td>4.000000</td>\n",
       "      <td>1.00000</td>\n",
       "      <td>1.000000</td>\n",
       "      <td>199992.480000</td>\n",
       "      <td>1.000000</td>\n",
       "    </tr>\n",
       "  </tbody>\n",
       "</table>\n",
       "</div>"
      ],
      "text/plain": [
       "         RowNumber    CustomerId   CreditScore           Age       Tenure  \\\n",
       "count  10000.00000  1.000000e+04  10000.000000  10000.000000  9091.000000   \n",
       "mean    5000.50000  1.569094e+07    650.528800     38.921800     4.997690   \n",
       "std     2886.89568  7.193619e+04     96.653299     10.487806     2.894723   \n",
       "min        1.00000  1.556570e+07    350.000000     18.000000     0.000000   \n",
       "25%     2500.75000  1.562853e+07    584.000000     32.000000     2.000000   \n",
       "50%     5000.50000  1.569074e+07    652.000000     37.000000     5.000000   \n",
       "75%     7500.25000  1.575323e+07    718.000000     44.000000     7.000000   \n",
       "max    10000.00000  1.581569e+07    850.000000     92.000000    10.000000   \n",
       "\n",
       "             Balance  NumOfProducts    HasCrCard  IsActiveMember  \\\n",
       "count   10000.000000   10000.000000  10000.00000    10000.000000   \n",
       "mean    76485.889288       1.530200      0.70550        0.515100   \n",
       "std     62397.405202       0.581654      0.45584        0.499797   \n",
       "min         0.000000       1.000000      0.00000        0.000000   \n",
       "25%         0.000000       1.000000      0.00000        0.000000   \n",
       "50%     97198.540000       1.000000      1.00000        1.000000   \n",
       "75%    127644.240000       2.000000      1.00000        1.000000   \n",
       "max    250898.090000       4.000000      1.00000        1.000000   \n",
       "\n",
       "       EstimatedSalary        Exited  \n",
       "count     10000.000000  10000.000000  \n",
       "mean     100090.239881      0.203700  \n",
       "std       57510.492818      0.402769  \n",
       "min          11.580000      0.000000  \n",
       "25%       51002.110000      0.000000  \n",
       "50%      100193.915000      0.000000  \n",
       "75%      149388.247500      0.000000  \n",
       "max      199992.480000      1.000000  "
      ]
     },
     "execution_count": 3,
     "metadata": {},
     "output_type": "execute_result"
    }
   ],
   "source": [
    "try :\n",
    "    df = pd.read_csv('C:/Users/Ivan Govnov/Downloads/Churn.csv')\n",
    "except:\n",
    "    df = pd.read_csv('/datasets/Churn.csv')\n",
    "    \n",
    "display(df.head())\n",
    "df.info(verbose=None)\n",
    "df.describe()"
   ]
  },
  {
   "cell_type": "code",
   "execution_count": 4,
   "id": "d75ed716",
   "metadata": {
    "scrolled": true
   },
   "outputs": [
    {
     "data": {
      "image/png": "[encoded data removed]",
      "text/plain": [
       "<Figure size 1300x900 with 12 Axes>"
      ]
     },
     "metadata": {},
     "output_type": "display_data"
    }
   ],
   "source": [
    "df.hist(figsize=(13, 9))\n",
    "plt.show()"
   ]
  },
  {
   "cell_type": "markdown",
   "id": "2e413ccb",
   "metadata": {},
   "source": [
    "Мы загрузили датафрейм и видим основную информацию о нём. В датафрейме 14 столбцов и 10000 строк. Столбец `Tenure` позже рассмотрим отдельно, в нём не хватает данных.\n",
    "\n",
    "На графиках представлены распределения значений.\n",
    "Из интересных наблюдений по предоставленным данным отметим следующие:\n",
    "- Средний кредитный рейтинг 650.\n",
    "- Самому старому клиенту 92, самому молодому 18, а средний возраст почти 39 лет.\n",
    "- В среднем каждый клиент банка является его клиентом уже 5 лет.\n",
    "- Больше, чем у трети клиентов пустой баланс. У самого богатого на счету 250898.\n",
    "- Судя по всему в банке всего 4 продукта. Почти у всех клиентов либо 1, либо 2 продукта банка.\n",
    "- Примерно 70% клиентов имеют кредитную карту банка.\n",
    "- Чуть больше половины клиентов имеют статус \"активный\".\n",
    "- Средняя предполагаемая зарплата 100090, медиана 100193. Квантили показывают очень ровное распределение зарплат, что не очень похоже на правду. Возможно, алгоритм, предсказывающий зарплату отрабатывает свою функцию неправильно, об этом говорит и самая низкая предсказанная зарплата 11.58. Не будем удалять столбец с предсказываемой зарплатой. График показывает равномерное распределение зарплат, как не происходит в действительности, а в реальности предсказанные зарплаты должны быть распределены нормально и пик был бы на медиане. Тем не менее, вероятно, клиенты были отобраны равномерно из разных групп по предсказываемой зарплате.\n",
    "- Соотношение оставшихся клиентов к ушедшим равно 4:1, что свидетельствует о дисбалансе и может сказаться на качестве обучения модели."
   ]
  },
  {
   "cell_type": "markdown",
   "id": "31ba0c3b",
   "metadata": {},
   "source": [
    "Первый взгляд на данные сделан, приступим к их подготовке."
   ]
  },
  {
   "cell_type": "markdown",
   "id": "cd4746a6",
   "metadata": {},
   "source": [
    "## Подготовка данных"
   ]
  },
  {
   "cell_type": "code",
   "execution_count": 5,
   "id": "70866b20",
   "metadata": {},
   "outputs": [],
   "source": [
    "df = df.drop(['RowNumber', 'CustomerId', 'Surname'], axis=1)"
   ]
  },
  {
   "cell_type": "markdown",
   "id": "ec60fd4e",
   "metadata": {},
   "source": [
    "Удалим столбцы обозначающие номер строчки, айди клиента и его фамилию, так как они не влияют на факт ухода клиента."
   ]
  },
  {
   "cell_type": "code",
   "execution_count": 6,
   "id": "1d7ea74d",
   "metadata": {
    "scrolled": true
   },
   "outputs": [
    {
     "name": "stdout",
     "output_type": "stream",
     "text": [
      "[ 2.  1.  8.  7.  4.  6.  3. 10.  5.  9.  0. nan]\n"
     ]
    }
   ],
   "source": [
    "print(df['Tenure'].unique())\n",
    "df.loc[df['Tenure'].isna(), 'Tenure'] = -1"
   ]
  },
  {
   "cell_type": "markdown",
   "id": "5ce9207e",
   "metadata": {},
   "source": [
    "В столбце `Tenure` присутствуют пропущенные значения, которые могут быть следствием потерь данных. Заменим пропуски на значение-заглушку. Предположительно это лучшее решение, так как если пропуски не звязаны с технической часть, то лучше поставить одно значение для таких данных."
   ]
  },
  {
   "cell_type": "markdown",
   "id": "db5a63ea",
   "metadata": {},
   "source": [
    "### Разбивка на выборки"
   ]
  },
  {
   "cell_type": "code",
   "execution_count": 7,
   "id": "981bdedb",
   "metadata": {},
   "outputs": [],
   "source": [
    "target = df['Exited']\n",
    "features = df.drop('Exited', axis=1)\n",
    "features_train, features_test, target_train, target_test = train_test_split(\n",
    "    features, target, test_size=0.15, random_state=12345)\n",
    "features_train, features_valid, target_train, target_valid = train_test_split(\n",
    "    features_train, target_train, test_size=0.17647, random_state=12345)"
   ]
  },
  {
   "cell_type": "markdown",
   "id": "4f72742a",
   "metadata": {},
   "source": [
    "Мы разбили данные на тренировочную, валидационную и тестовую в соотношении 70/15/15"
   ]
  },
  {
   "cell_type": "code",
   "execution_count": 8,
   "id": "ee12c2a6",
   "metadata": {},
   "outputs": [
    {
     "name": "stdout",
     "output_type": "stream",
     "text": [
      "Тренировочние выборки: (7000, 10) (7000,)\n",
      "Валидационные выборки: (1500, 10) (1500,)\n",
      "Тренировочные выборки: (1500, 10) (1500,)\n"
     ]
    }
   ],
   "source": [
    "print('Тренировочние выборки:', features_train.shape, target_train.shape)\n",
    "print('Валидационные выборки:', features_valid.shape, target_valid.shape)\n",
    "print('Тренировочные выборки:', features_test.shape, target_test.shape)"
   ]
  },
  {
   "cell_type": "markdown",
   "id": "faca5a35",
   "metadata": {},
   "source": [
    "### Кодирование"
   ]
  },
  {
   "cell_type": "code",
   "execution_count": 9,
   "id": "fb550234",
   "metadata": {},
   "outputs": [
    {
     "data": {
      "text/plain": [
       "<bound method DataFrame.info of       CreditScore Geography  Gender  Age  Tenure    Balance  NumOfProducts  \\\n",
       "7702          850    France    Male   31     8.0       0.00              2   \n",
       "4439          613    France  Female   21     7.0  105627.95              1   \n",
       "5676          749    France  Female   26     6.0       0.00              2   \n",
       "1611          760   Germany  Female   49     9.0   91502.99              1   \n",
       "9749          533    France  Female   35     8.0       0.00              2   \n",
       "...           ...       ...     ...  ...     ...        ...            ...   \n",
       "1891          584    France  Female   37     1.0       0.00              2   \n",
       "36            490     Spain    Male   31     3.0  145260.23              1   \n",
       "9393          670   Germany    Male   43     9.0  111677.88              1   \n",
       "207           618    France    Male   34     5.0  134954.53              1   \n",
       "7499          609   Germany  Female   71     6.0  113317.10              1   \n",
       "\n",
       "      HasCrCard  IsActiveMember  EstimatedSalary  \n",
       "7702          1               0        178667.70  \n",
       "4439          1               1         36560.51  \n",
       "5676          0               1         34948.77  \n",
       "1611          1               0        117232.90  \n",
       "9749          1               1        187900.12  \n",
       "...         ...             ...              ...  \n",
       "1891          1               1        180363.56  \n",
       "36            0               1        114066.77  \n",
       "9393          1               0        178827.30  \n",
       "207           1               1        151954.39  \n",
       "7499          1               0        108258.22  \n",
       "\n",
       "[7000 rows x 10 columns]>"
      ]
     },
     "execution_count": 9,
     "metadata": {},
     "output_type": "execute_result"
    }
   ],
   "source": [
    "features_train.info"
   ]
  },
  {
   "cell_type": "code",
   "execution_count": 10,
   "id": "4389bcf1",
   "metadata": {},
   "outputs": [
    {
     "data": {
      "text/html": [
       "<style>#sk-container-id-1 {color: black;background-color: white;}#sk-container-id-1 pre{padding: 0;}#sk-container-id-1 div.sk-toggleable {background-color: white;}#sk-container-id-1 label.sk-toggleable__label {cursor: pointer;display: block;width: 100%;margin-bottom: 0;padding: 0.3em;box-sizing: border-box;text-align: center;}#sk-container-id-1 label.sk-toggleable__label-arrow:before {content: \"▸\";float: left;margin-right: 0.25em;color: #696969;}#sk-container-id-1 label.sk-toggleable__label-arrow:hover:before {color: black;}#sk-container-id-1 div.sk-estimator:hover label.sk-toggleable__label-arrow:before {color: black;}#sk-container-id-1 div.sk-toggleable__content {max-height: 0;max-width: 0;overflow: hidden;text-align: left;background-color: #f0f8ff;}#sk-container-id-1 div.sk-toggleable__content pre {margin: 0.2em;color: black;border-radius: 0.25em;background-color: #f0f8ff;}#sk-container-id-1 input.sk-toggleable__control:checked~div.sk-toggleable__content {max-height: 200px;max-width: 100%;overflow: auto;}#sk-container-id-1 input.sk-toggleable__control:checked~label.sk-toggleable__label-arrow:before {content: \"▾\";}#sk-container-id-1 div.sk-estimator input.sk-toggleable__control:checked~label.sk-toggleable__label {background-color: #d4ebff;}#sk-container-id-1 div.sk-label input.sk-toggleable__control:checked~label.sk-toggleable__label {background-color: #d4ebff;}#sk-container-id-1 input.sk-hidden--visually {border: 0;clip: rect(1px 1px 1px 1px);clip: rect(1px, 1px, 1px, 1px);height: 1px;margin: -1px;overflow: hidden;padding: 0;position: absolute;width: 1px;}#sk-container-id-1 div.sk-estimator {font-family: monospace;background-color: #f0f8ff;border: 1px dotted black;border-radius: 0.25em;box-sizing: border-box;margin-bottom: 0.5em;}#sk-container-id-1 div.sk-estimator:hover {background-color: #d4ebff;}#sk-container-id-1 div.sk-parallel-item::after {content: \"\";width: 100%;border-bottom: 1px solid gray;flex-grow: 1;}#sk-container-id-1 div.sk-label:hover label.sk-toggleable__label {background-color: #d4ebff;}#sk-container-id-1 div.sk-serial::before {content: \"\";position: absolute;border-left: 1px solid gray;box-sizing: border-box;top: 0;bottom: 0;left: 50%;z-index: 0;}#sk-container-id-1 div.sk-serial {display: flex;flex-direction: column;align-items: center;background-color: white;padding-right: 0.2em;padding-left: 0.2em;position: relative;}#sk-container-id-1 div.sk-item {position: relative;z-index: 1;}#sk-container-id-1 div.sk-parallel {display: flex;align-items: stretch;justify-content: center;background-color: white;position: relative;}#sk-container-id-1 div.sk-item::before, #sk-container-id-1 div.sk-parallel-item::before {content: \"\";position: absolute;border-left: 1px solid gray;box-sizing: border-box;top: 0;bottom: 0;left: 50%;z-index: -1;}#sk-container-id-1 div.sk-parallel-item {display: flex;flex-direction: column;z-index: 1;position: relative;background-color: white;}#sk-container-id-1 div.sk-parallel-item:first-child::after {align-self: flex-end;width: 50%;}#sk-container-id-1 div.sk-parallel-item:last-child::after {align-self: flex-start;width: 50%;}#sk-container-id-1 div.sk-parallel-item:only-child::after {width: 0;}#sk-container-id-1 div.sk-dashed-wrapped {border: 1px dashed gray;margin: 0 0.4em 0.5em 0.4em;box-sizing: border-box;padding-bottom: 0.4em;background-color: white;}#sk-container-id-1 div.sk-label label {font-family: monospace;font-weight: bold;display: inline-block;line-height: 1.2em;}#sk-container-id-1 div.sk-label-container {text-align: center;}#sk-container-id-1 div.sk-container {/* jupyter's `normalize.less` sets `[hidden] { display: none; }` but bootstrap.min.css set `[hidden] { display: none !important; }` so we also need the `!important` here to be able to override the default hidden behavior on the sphinx rendered scikit-learn.org. See: https://github.com/scikit-learn/scikit-learn/issues/21755 */display: inline-block !important;position: relative;}#sk-container-id-1 div.sk-text-repr-fallback {display: none;}</style><div id=\"sk-container-id-1\" class=\"sk-top-container\"><div class=\"sk-text-repr-fallback\"><pre>OneHotEncoder(drop=&#x27;first&#x27;, handle_unknown=&#x27;ignore&#x27;, sparse=False)</pre><b>In a Jupyter environment, please rerun this cell to show the HTML representation or trust the notebook. <br />On GitHub, the HTML representation is unable to render, please try loading this page with nbviewer.org.</b></div><div class=\"sk-container\" hidden><div class=\"sk-item\"><div class=\"sk-estimator sk-toggleable\"><input class=\"sk-toggleable__control sk-hidden--visually\" id=\"sk-estimator-id-1\" type=\"checkbox\" checked><label for=\"sk-estimator-id-1\" class=\"sk-toggleable__label sk-toggleable__label-arrow\">OneHotEncoder</label><div class=\"sk-toggleable__content\"><pre>OneHotEncoder(drop=&#x27;first&#x27;, handle_unknown=&#x27;ignore&#x27;, sparse=False)</pre></div></div></div></div></div>"
      ],
      "text/plain": [
       "OneHotEncoder(drop='first', handle_unknown='ignore', sparse=False)"
      ]
     },
     "execution_count": 10,
     "metadata": {},
     "output_type": "execute_result"
    }
   ],
   "source": [
    "cat_col = features_train.select_dtypes(include='object').columns.to_list()\n",
    "\n",
    "encoder = OneHotEncoder(drop='first', handle_unknown='ignore', sparse=False)\n",
    "\n",
    "encoder.fit(features_train[cat_col])"
   ]
  },
  {
   "cell_type": "markdown",
   "id": "394c65ef",
   "metadata": {},
   "source": [
    "Мы обучили `OneHotEncoder` на тренировочной выборке, теперь применим его к нашим данным."
   ]
  },
  {
   "cell_type": "code",
   "execution_count": 9,
   "id": "bbb36ab0",
   "metadata": {},
   "outputs": [
    {
     "data": {
      "text/html": [
       "<div>\n",
       "<style scoped>\n",
       "    .dataframe tbody tr th:only-of-type {\n",
       "        vertical-align: middle;\n",
       "    }\n",
       "\n",
       "    .dataframe tbody tr th {\n",
       "        vertical-align: top;\n",
       "    }\n",
       "\n",
       "    .dataframe thead th {\n",
       "        text-align: right;\n",
       "    }\n",
       "</style>\n",
       "<table border=\"1\" class=\"dataframe\">\n",
       "  <thead>\n",
       "    <tr style=\"text-align: right;\">\n",
       "      <th></th>\n",
       "      <th>CreditScore</th>\n",
       "      <th>Age</th>\n",
       "      <th>Tenure</th>\n",
       "      <th>Balance</th>\n",
       "      <th>NumOfProducts</th>\n",
       "      <th>HasCrCard</th>\n",
       "      <th>IsActiveMember</th>\n",
       "      <th>EstimatedSalary</th>\n",
       "      <th>Geography_Germany</th>\n",
       "      <th>Geography_Spain</th>\n",
       "      <th>Gender_Male</th>\n",
       "    </tr>\n",
       "  </thead>\n",
       "  <tbody>\n",
       "    <tr>\n",
       "      <th>7702</th>\n",
       "      <td>850</td>\n",
       "      <td>31</td>\n",
       "      <td>8.0</td>\n",
       "      <td>0.00</td>\n",
       "      <td>2</td>\n",
       "      <td>1</td>\n",
       "      <td>0</td>\n",
       "      <td>178667.70</td>\n",
       "      <td>0.0</td>\n",
       "      <td>0.0</td>\n",
       "      <td>1.0</td>\n",
       "    </tr>\n",
       "    <tr>\n",
       "      <th>4439</th>\n",
       "      <td>613</td>\n",
       "      <td>21</td>\n",
       "      <td>7.0</td>\n",
       "      <td>105627.95</td>\n",
       "      <td>1</td>\n",
       "      <td>1</td>\n",
       "      <td>1</td>\n",
       "      <td>36560.51</td>\n",
       "      <td>0.0</td>\n",
       "      <td>0.0</td>\n",
       "      <td>0.0</td>\n",
       "    </tr>\n",
       "    <tr>\n",
       "      <th>5676</th>\n",
       "      <td>749</td>\n",
       "      <td>26</td>\n",
       "      <td>6.0</td>\n",
       "      <td>0.00</td>\n",
       "      <td>2</td>\n",
       "      <td>0</td>\n",
       "      <td>1</td>\n",
       "      <td>34948.77</td>\n",
       "      <td>0.0</td>\n",
       "      <td>0.0</td>\n",
       "      <td>0.0</td>\n",
       "    </tr>\n",
       "    <tr>\n",
       "      <th>1611</th>\n",
       "      <td>760</td>\n",
       "      <td>49</td>\n",
       "      <td>9.0</td>\n",
       "      <td>91502.99</td>\n",
       "      <td>1</td>\n",
       "      <td>1</td>\n",
       "      <td>0</td>\n",
       "      <td>117232.90</td>\n",
       "      <td>1.0</td>\n",
       "      <td>0.0</td>\n",
       "      <td>0.0</td>\n",
       "    </tr>\n",
       "    <tr>\n",
       "      <th>9749</th>\n",
       "      <td>533</td>\n",
       "      <td>35</td>\n",
       "      <td>8.0</td>\n",
       "      <td>0.00</td>\n",
       "      <td>2</td>\n",
       "      <td>1</td>\n",
       "      <td>1</td>\n",
       "      <td>187900.12</td>\n",
       "      <td>0.0</td>\n",
       "      <td>0.0</td>\n",
       "      <td>0.0</td>\n",
       "    </tr>\n",
       "  </tbody>\n",
       "</table>\n",
       "</div>"
      ],
      "text/plain": [
       "      CreditScore  Age  Tenure    Balance  NumOfProducts  HasCrCard  \\\n",
       "7702          850   31     8.0       0.00              2          1   \n",
       "4439          613   21     7.0  105627.95              1          1   \n",
       "5676          749   26     6.0       0.00              2          0   \n",
       "1611          760   49     9.0   91502.99              1          1   \n",
       "9749          533   35     8.0       0.00              2          1   \n",
       "\n",
       "      IsActiveMember  EstimatedSalary  Geography_Germany  Geography_Spain  \\\n",
       "7702               0        178667.70                0.0              0.0   \n",
       "4439               1         36560.51                0.0              0.0   \n",
       "5676               1         34948.77                0.0              0.0   \n",
       "1611               0        117232.90                1.0              0.0   \n",
       "9749               1        187900.12                0.0              0.0   \n",
       "\n",
       "      Gender_Male  \n",
       "7702          1.0  \n",
       "4439          0.0  \n",
       "5676          0.0  \n",
       "1611          0.0  \n",
       "9749          0.0  "
      ]
     },
     "metadata": {},
     "output_type": "display_data"
    },
    {
     "data": {
      "text/html": [
       "<div>\n",
       "<style scoped>\n",
       "    .dataframe tbody tr th:only-of-type {\n",
       "        vertical-align: middle;\n",
       "    }\n",
       "\n",
       "    .dataframe tbody tr th {\n",
       "        vertical-align: top;\n",
       "    }\n",
       "\n",
       "    .dataframe thead th {\n",
       "        text-align: right;\n",
       "    }\n",
       "</style>\n",
       "<table border=\"1\" class=\"dataframe\">\n",
       "  <thead>\n",
       "    <tr style=\"text-align: right;\">\n",
       "      <th></th>\n",
       "      <th>CreditScore</th>\n",
       "      <th>Age</th>\n",
       "      <th>Tenure</th>\n",
       "      <th>Balance</th>\n",
       "      <th>NumOfProducts</th>\n",
       "      <th>HasCrCard</th>\n",
       "      <th>IsActiveMember</th>\n",
       "      <th>EstimatedSalary</th>\n",
       "      <th>Geography_Germany</th>\n",
       "      <th>Geography_Spain</th>\n",
       "      <th>Gender_Male</th>\n",
       "    </tr>\n",
       "  </thead>\n",
       "  <tbody>\n",
       "    <tr>\n",
       "      <th>5113</th>\n",
       "      <td>754</td>\n",
       "      <td>47</td>\n",
       "      <td>1.0</td>\n",
       "      <td>185513.67</td>\n",
       "      <td>1</td>\n",
       "      <td>1</td>\n",
       "      <td>0</td>\n",
       "      <td>27438.83</td>\n",
       "      <td>0.0</td>\n",
       "      <td>0.0</td>\n",
       "      <td>0.0</td>\n",
       "    </tr>\n",
       "    <tr>\n",
       "      <th>418</th>\n",
       "      <td>643</td>\n",
       "      <td>46</td>\n",
       "      <td>6.0</td>\n",
       "      <td>0.00</td>\n",
       "      <td>2</td>\n",
       "      <td>0</td>\n",
       "      <td>0</td>\n",
       "      <td>106781.59</td>\n",
       "      <td>0.0</td>\n",
       "      <td>0.0</td>\n",
       "      <td>0.0</td>\n",
       "    </tr>\n",
       "    <tr>\n",
       "      <th>2710</th>\n",
       "      <td>634</td>\n",
       "      <td>37</td>\n",
       "      <td>1.0</td>\n",
       "      <td>89696.84</td>\n",
       "      <td>2</td>\n",
       "      <td>1</td>\n",
       "      <td>1</td>\n",
       "      <td>193179.88</td>\n",
       "      <td>1.0</td>\n",
       "      <td>0.0</td>\n",
       "      <td>1.0</td>\n",
       "    </tr>\n",
       "    <tr>\n",
       "      <th>5000</th>\n",
       "      <td>834</td>\n",
       "      <td>68</td>\n",
       "      <td>9.0</td>\n",
       "      <td>130169.27</td>\n",
       "      <td>2</td>\n",
       "      <td>0</td>\n",
       "      <td>1</td>\n",
       "      <td>93112.20</td>\n",
       "      <td>1.0</td>\n",
       "      <td>0.0</td>\n",
       "      <td>0.0</td>\n",
       "    </tr>\n",
       "    <tr>\n",
       "      <th>3760</th>\n",
       "      <td>835</td>\n",
       "      <td>38</td>\n",
       "      <td>7.0</td>\n",
       "      <td>86824.09</td>\n",
       "      <td>1</td>\n",
       "      <td>0</td>\n",
       "      <td>0</td>\n",
       "      <td>175905.97</td>\n",
       "      <td>0.0</td>\n",
       "      <td>1.0</td>\n",
       "      <td>1.0</td>\n",
       "    </tr>\n",
       "  </tbody>\n",
       "</table>\n",
       "</div>"
      ],
      "text/plain": [
       "      CreditScore  Age  Tenure    Balance  NumOfProducts  HasCrCard  \\\n",
       "5113          754   47     1.0  185513.67              1          1   \n",
       "418           643   46     6.0       0.00              2          0   \n",
       "2710          634   37     1.0   89696.84              2          1   \n",
       "5000          834   68     9.0  130169.27              2          0   \n",
       "3760          835   38     7.0   86824.09              1          0   \n",
       "\n",
       "      IsActiveMember  EstimatedSalary  Geography_Germany  Geography_Spain  \\\n",
       "5113               0         27438.83                0.0              0.0   \n",
       "418                0        106781.59                0.0              0.0   \n",
       "2710               1        193179.88                1.0              0.0   \n",
       "5000               1         93112.20                1.0              0.0   \n",
       "3760               0        175905.97                0.0              1.0   \n",
       "\n",
       "      Gender_Male  \n",
       "5113          0.0  \n",
       "418           0.0  \n",
       "2710          1.0  \n",
       "5000          0.0  \n",
       "3760          1.0  "
      ]
     },
     "metadata": {},
     "output_type": "display_data"
    },
    {
     "data": {
      "text/html": [
       "<div>\n",
       "<style scoped>\n",
       "    .dataframe tbody tr th:only-of-type {\n",
       "        vertical-align: middle;\n",
       "    }\n",
       "\n",
       "    .dataframe tbody tr th {\n",
       "        vertical-align: top;\n",
       "    }\n",
       "\n",
       "    .dataframe thead th {\n",
       "        text-align: right;\n",
       "    }\n",
       "</style>\n",
       "<table border=\"1\" class=\"dataframe\">\n",
       "  <thead>\n",
       "    <tr style=\"text-align: right;\">\n",
       "      <th></th>\n",
       "      <th>CreditScore</th>\n",
       "      <th>Age</th>\n",
       "      <th>Tenure</th>\n",
       "      <th>Balance</th>\n",
       "      <th>NumOfProducts</th>\n",
       "      <th>HasCrCard</th>\n",
       "      <th>IsActiveMember</th>\n",
       "      <th>EstimatedSalary</th>\n",
       "      <th>Geography_Germany</th>\n",
       "      <th>Geography_Spain</th>\n",
       "      <th>Gender_Male</th>\n",
       "    </tr>\n",
       "  </thead>\n",
       "  <tbody>\n",
       "    <tr>\n",
       "      <th>7867</th>\n",
       "      <td>640</td>\n",
       "      <td>46</td>\n",
       "      <td>3.0</td>\n",
       "      <td>0.00</td>\n",
       "      <td>1</td>\n",
       "      <td>1</td>\n",
       "      <td>1</td>\n",
       "      <td>156260.08</td>\n",
       "      <td>0.0</td>\n",
       "      <td>1.0</td>\n",
       "      <td>0.0</td>\n",
       "    </tr>\n",
       "    <tr>\n",
       "      <th>1402</th>\n",
       "      <td>757</td>\n",
       "      <td>29</td>\n",
       "      <td>8.0</td>\n",
       "      <td>130306.49</td>\n",
       "      <td>1</td>\n",
       "      <td>1</td>\n",
       "      <td>0</td>\n",
       "      <td>77469.38</td>\n",
       "      <td>0.0</td>\n",
       "      <td>0.0</td>\n",
       "      <td>1.0</td>\n",
       "    </tr>\n",
       "    <tr>\n",
       "      <th>8606</th>\n",
       "      <td>807</td>\n",
       "      <td>42</td>\n",
       "      <td>5.0</td>\n",
       "      <td>0.00</td>\n",
       "      <td>2</td>\n",
       "      <td>1</td>\n",
       "      <td>1</td>\n",
       "      <td>74900.90</td>\n",
       "      <td>0.0</td>\n",
       "      <td>1.0</td>\n",
       "      <td>1.0</td>\n",
       "    </tr>\n",
       "    <tr>\n",
       "      <th>8885</th>\n",
       "      <td>668</td>\n",
       "      <td>45</td>\n",
       "      <td>4.0</td>\n",
       "      <td>102486.21</td>\n",
       "      <td>2</td>\n",
       "      <td>1</td>\n",
       "      <td>1</td>\n",
       "      <td>158379.25</td>\n",
       "      <td>0.0</td>\n",
       "      <td>1.0</td>\n",
       "      <td>1.0</td>\n",
       "    </tr>\n",
       "    <tr>\n",
       "      <th>6494</th>\n",
       "      <td>699</td>\n",
       "      <td>28</td>\n",
       "      <td>7.0</td>\n",
       "      <td>0.00</td>\n",
       "      <td>2</td>\n",
       "      <td>1</td>\n",
       "      <td>1</td>\n",
       "      <td>22684.78</td>\n",
       "      <td>0.0</td>\n",
       "      <td>0.0</td>\n",
       "      <td>1.0</td>\n",
       "    </tr>\n",
       "  </tbody>\n",
       "</table>\n",
       "</div>"
      ],
      "text/plain": [
       "      CreditScore  Age  Tenure    Balance  NumOfProducts  HasCrCard  \\\n",
       "7867          640   46     3.0       0.00              1          1   \n",
       "1402          757   29     8.0  130306.49              1          1   \n",
       "8606          807   42     5.0       0.00              2          1   \n",
       "8885          668   45     4.0  102486.21              2          1   \n",
       "6494          699   28     7.0       0.00              2          1   \n",
       "\n",
       "      IsActiveMember  EstimatedSalary  Geography_Germany  Geography_Spain  \\\n",
       "7867               1        156260.08                0.0              1.0   \n",
       "1402               0         77469.38                0.0              0.0   \n",
       "8606               1         74900.90                0.0              1.0   \n",
       "8885               1        158379.25                0.0              1.0   \n",
       "6494               1         22684.78                0.0              0.0   \n",
       "\n",
       "      Gender_Male  \n",
       "7867          0.0  \n",
       "1402          1.0  \n",
       "8606          1.0  \n",
       "8885          1.0  \n",
       "6494          1.0  "
      ]
     },
     "metadata": {},
     "output_type": "display_data"
    }
   ],
   "source": [
    "features_train[\n",
    "    encoder.get_feature_names_out()\n",
    "] = encoder.transform(features_train[cat_col])\n",
    "features_train.drop(cat_col, axis=1, inplace=True)\n",
    "\n",
    "features_valid[\n",
    "    encoder.get_feature_names_out()\n",
    "] = encoder.transform(features_valid[cat_col])\n",
    "features_valid.drop(cat_col, axis=1, inplace=True)\n",
    "\n",
    "features_test[\n",
    "    encoder.get_feature_names_out()\n",
    "] = encoder.transform(features_test[cat_col])\n",
    "features_test.drop(cat_col, axis=1, inplace=True)\n",
    "\n",
    "display(features_train.head(), features_valid.head(), features_test.head())"
   ]
  },
  {
   "cell_type": "markdown",
   "id": "97e3fbc6",
   "metadata": {},
   "source": [
    "Данные закодированы, изначальные столбцы удалены. Время масштабировать данные."
   ]
  },
  {
   "cell_type": "markdown",
   "id": "a8cb1fc7",
   "metadata": {},
   "source": [
    "### Масштабирование данных"
   ]
  },
  {
   "cell_type": "code",
   "execution_count": 10,
   "id": "40746e7a",
   "metadata": {},
   "outputs": [],
   "source": [
    "numeric = ['CreditScore','Age','Balance','NumOfProducts','EstimatedSalary','Tenure']"
   ]
  },
  {
   "cell_type": "markdown",
   "id": "fd18c010",
   "metadata": {},
   "source": [
    "Создадим список столбцов с численными данными, чтобы масштабировать признаки."
   ]
  },
  {
   "cell_type": "code",
   "execution_count": 11,
   "id": "6ebcaa39",
   "metadata": {},
   "outputs": [
    {
     "data": {
      "text/html": [
       "<style>#sk-container-id-2 {color: black;background-color: white;}#sk-container-id-2 pre{padding: 0;}#sk-container-id-2 div.sk-toggleable {background-color: white;}#sk-container-id-2 label.sk-toggleable__label {cursor: pointer;display: block;width: 100%;margin-bottom: 0;padding: 0.3em;box-sizing: border-box;text-align: center;}#sk-container-id-2 label.sk-toggleable__label-arrow:before {content: \"▸\";float: left;margin-right: 0.25em;color: #696969;}#sk-container-id-2 label.sk-toggleable__label-arrow:hover:before {color: black;}#sk-container-id-2 div.sk-estimator:hover label.sk-toggleable__label-arrow:before {color: black;}#sk-container-id-2 div.sk-toggleable__content {max-height: 0;max-width: 0;overflow: hidden;text-align: left;background-color: #f0f8ff;}#sk-container-id-2 div.sk-toggleable__content pre {margin: 0.2em;color: black;border-radius: 0.25em;background-color: #f0f8ff;}#sk-container-id-2 input.sk-toggleable__control:checked~div.sk-toggleable__content {max-height: 200px;max-width: 100%;overflow: auto;}#sk-container-id-2 input.sk-toggleable__control:checked~label.sk-toggleable__label-arrow:before {content: \"▾\";}#sk-container-id-2 div.sk-estimator input.sk-toggleable__control:checked~label.sk-toggleable__label {background-color: #d4ebff;}#sk-container-id-2 div.sk-label input.sk-toggleable__control:checked~label.sk-toggleable__label {background-color: #d4ebff;}#sk-container-id-2 input.sk-hidden--visually {border: 0;clip: rect(1px 1px 1px 1px);clip: rect(1px, 1px, 1px, 1px);height: 1px;margin: -1px;overflow: hidden;padding: 0;position: absolute;width: 1px;}#sk-container-id-2 div.sk-estimator {font-family: monospace;background-color: #f0f8ff;border: 1px dotted black;border-radius: 0.25em;box-sizing: border-box;margin-bottom: 0.5em;}#sk-container-id-2 div.sk-estimator:hover {background-color: #d4ebff;}#sk-container-id-2 div.sk-parallel-item::after {content: \"\";width: 100%;border-bottom: 1px solid gray;flex-grow: 1;}#sk-container-id-2 div.sk-label:hover label.sk-toggleable__label {background-color: #d4ebff;}#sk-container-id-2 div.sk-serial::before {content: \"\";position: absolute;border-left: 1px solid gray;box-sizing: border-box;top: 0;bottom: 0;left: 50%;z-index: 0;}#sk-container-id-2 div.sk-serial {display: flex;flex-direction: column;align-items: center;background-color: white;padding-right: 0.2em;padding-left: 0.2em;position: relative;}#sk-container-id-2 div.sk-item {position: relative;z-index: 1;}#sk-container-id-2 div.sk-parallel {display: flex;align-items: stretch;justify-content: center;background-color: white;position: relative;}#sk-container-id-2 div.sk-item::before, #sk-container-id-2 div.sk-parallel-item::before {content: \"\";position: absolute;border-left: 1px solid gray;box-sizing: border-box;top: 0;bottom: 0;left: 50%;z-index: -1;}#sk-container-id-2 div.sk-parallel-item {display: flex;flex-direction: column;z-index: 1;position: relative;background-color: white;}#sk-container-id-2 div.sk-parallel-item:first-child::after {align-self: flex-end;width: 50%;}#sk-container-id-2 div.sk-parallel-item:last-child::after {align-self: flex-start;width: 50%;}#sk-container-id-2 div.sk-parallel-item:only-child::after {width: 0;}#sk-container-id-2 div.sk-dashed-wrapped {border: 1px dashed gray;margin: 0 0.4em 0.5em 0.4em;box-sizing: border-box;padding-bottom: 0.4em;background-color: white;}#sk-container-id-2 div.sk-label label {font-family: monospace;font-weight: bold;display: inline-block;line-height: 1.2em;}#sk-container-id-2 div.sk-label-container {text-align: center;}#sk-container-id-2 div.sk-container {/* jupyter's `normalize.less` sets `[hidden] { display: none; }` but bootstrap.min.css set `[hidden] { display: none !important; }` so we also need the `!important` here to be able to override the default hidden behavior on the sphinx rendered scikit-learn.org. See: https://github.com/scikit-learn/scikit-learn/issues/21755 */display: inline-block !important;position: relative;}#sk-container-id-2 div.sk-text-repr-fallback {display: none;}</style><div id=\"sk-container-id-2\" class=\"sk-top-container\"><div class=\"sk-text-repr-fallback\"><pre>StandardScaler()</pre><b>In a Jupyter environment, please rerun this cell to show the HTML representation or trust the notebook. <br />On GitHub, the HTML representation is unable to render, please try loading this page with nbviewer.org.</b></div><div class=\"sk-container\" hidden><div class=\"sk-item\"><div class=\"sk-estimator sk-toggleable\"><input class=\"sk-toggleable__control sk-hidden--visually\" id=\"sk-estimator-id-2\" type=\"checkbox\" checked><label for=\"sk-estimator-id-2\" class=\"sk-toggleable__label sk-toggleable__label-arrow\">StandardScaler</label><div class=\"sk-toggleable__content\"><pre>StandardScaler()</pre></div></div></div></div></div>"
      ],
      "text/plain": [
       "StandardScaler()"
      ]
     },
     "execution_count": 11,
     "metadata": {},
     "output_type": "execute_result"
    }
   ],
   "source": [
    "scaler = StandardScaler()\n",
    "scaler.fit(features_train[numeric])"
   ]
  },
  {
   "cell_type": "markdown",
   "id": "8f0e08bb",
   "metadata": {},
   "source": [
    "Обучаем `StandartScaler` на тренировочной выборке."
   ]
  },
  {
   "cell_type": "code",
   "execution_count": 12,
   "id": "c8289555",
   "metadata": {},
   "outputs": [
    {
     "data": {
      "text/html": [
       "<div>\n",
       "<style scoped>\n",
       "    .dataframe tbody tr th:only-of-type {\n",
       "        vertical-align: middle;\n",
       "    }\n",
       "\n",
       "    .dataframe tbody tr th {\n",
       "        vertical-align: top;\n",
       "    }\n",
       "\n",
       "    .dataframe thead th {\n",
       "        text-align: right;\n",
       "    }\n",
       "</style>\n",
       "<table border=\"1\" class=\"dataframe\">\n",
       "  <thead>\n",
       "    <tr style=\"text-align: right;\">\n",
       "      <th></th>\n",
       "      <th>CreditScore</th>\n",
       "      <th>Age</th>\n",
       "      <th>Tenure</th>\n",
       "      <th>Balance</th>\n",
       "      <th>NumOfProducts</th>\n",
       "      <th>HasCrCard</th>\n",
       "      <th>IsActiveMember</th>\n",
       "      <th>EstimatedSalary</th>\n",
       "      <th>Geography_Germany</th>\n",
       "      <th>Geography_Spain</th>\n",
       "      <th>Gender_Male</th>\n",
       "    </tr>\n",
       "  </thead>\n",
       "  <tbody>\n",
       "    <tr>\n",
       "      <th>7702</th>\n",
       "      <td>2.066175</td>\n",
       "      <td>-0.748587</td>\n",
       "      <td>1.090872</td>\n",
       "      <td>-1.225643</td>\n",
       "      <td>0.812901</td>\n",
       "      <td>1</td>\n",
       "      <td>0</td>\n",
       "      <td>1.360281</td>\n",
       "      <td>0.0</td>\n",
       "      <td>0.0</td>\n",
       "      <td>1.0</td>\n",
       "    </tr>\n",
       "    <tr>\n",
       "      <th>4439</th>\n",
       "      <td>-0.393134</td>\n",
       "      <td>-1.695550</td>\n",
       "      <td>0.783967</td>\n",
       "      <td>0.465596</td>\n",
       "      <td>-0.896413</td>\n",
       "      <td>1</td>\n",
       "      <td>1</td>\n",
       "      <td>-1.108208</td>\n",
       "      <td>0.0</td>\n",
       "      <td>0.0</td>\n",
       "      <td>0.0</td>\n",
       "    </tr>\n",
       "    <tr>\n",
       "      <th>5676</th>\n",
       "      <td>1.018115</td>\n",
       "      <td>-1.222069</td>\n",
       "      <td>0.477062</td>\n",
       "      <td>-1.225643</td>\n",
       "      <td>0.812901</td>\n",
       "      <td>0</td>\n",
       "      <td>1</td>\n",
       "      <td>-1.136205</td>\n",
       "      <td>0.0</td>\n",
       "      <td>0.0</td>\n",
       "      <td>0.0</td>\n",
       "    </tr>\n",
       "    <tr>\n",
       "      <th>1611</th>\n",
       "      <td>1.132260</td>\n",
       "      <td>0.955945</td>\n",
       "      <td>1.397778</td>\n",
       "      <td>0.239437</td>\n",
       "      <td>-0.896413</td>\n",
       "      <td>1</td>\n",
       "      <td>0</td>\n",
       "      <td>0.293121</td>\n",
       "      <td>1.0</td>\n",
       "      <td>0.0</td>\n",
       "      <td>0.0</td>\n",
       "    </tr>\n",
       "    <tr>\n",
       "      <th>9749</th>\n",
       "      <td>-1.223280</td>\n",
       "      <td>-0.369802</td>\n",
       "      <td>1.090872</td>\n",
       "      <td>-1.225643</td>\n",
       "      <td>0.812901</td>\n",
       "      <td>1</td>\n",
       "      <td>1</td>\n",
       "      <td>1.520654</td>\n",
       "      <td>0.0</td>\n",
       "      <td>0.0</td>\n",
       "      <td>0.0</td>\n",
       "    </tr>\n",
       "  </tbody>\n",
       "</table>\n",
       "</div>"
      ],
      "text/plain": [
       "      CreditScore       Age    Tenure   Balance  NumOfProducts  HasCrCard  \\\n",
       "7702     2.066175 -0.748587  1.090872 -1.225643       0.812901          1   \n",
       "4439    -0.393134 -1.695550  0.783967  0.465596      -0.896413          1   \n",
       "5676     1.018115 -1.222069  0.477062 -1.225643       0.812901          0   \n",
       "1611     1.132260  0.955945  1.397778  0.239437      -0.896413          1   \n",
       "9749    -1.223280 -0.369802  1.090872 -1.225643       0.812901          1   \n",
       "\n",
       "      IsActiveMember  EstimatedSalary  Geography_Germany  Geography_Spain  \\\n",
       "7702               0         1.360281                0.0              0.0   \n",
       "4439               1        -1.108208                0.0              0.0   \n",
       "5676               1        -1.136205                0.0              0.0   \n",
       "1611               0         0.293121                1.0              0.0   \n",
       "9749               1         1.520654                0.0              0.0   \n",
       "\n",
       "      Gender_Male  \n",
       "7702          1.0  \n",
       "4439          0.0  \n",
       "5676          0.0  \n",
       "1611          0.0  \n",
       "9749          0.0  "
      ]
     },
     "metadata": {},
     "output_type": "display_data"
    },
    {
     "data": {
      "text/html": [
       "<div>\n",
       "<style scoped>\n",
       "    .dataframe tbody tr th:only-of-type {\n",
       "        vertical-align: middle;\n",
       "    }\n",
       "\n",
       "    .dataframe tbody tr th {\n",
       "        vertical-align: top;\n",
       "    }\n",
       "\n",
       "    .dataframe thead th {\n",
       "        text-align: right;\n",
       "    }\n",
       "</style>\n",
       "<table border=\"1\" class=\"dataframe\">\n",
       "  <thead>\n",
       "    <tr style=\"text-align: right;\">\n",
       "      <th></th>\n",
       "      <th>CreditScore</th>\n",
       "      <th>Age</th>\n",
       "      <th>Tenure</th>\n",
       "      <th>Balance</th>\n",
       "      <th>NumOfProducts</th>\n",
       "      <th>HasCrCard</th>\n",
       "      <th>IsActiveMember</th>\n",
       "      <th>EstimatedSalary</th>\n",
       "      <th>Geography_Germany</th>\n",
       "      <th>Geography_Spain</th>\n",
       "      <th>Gender_Male</th>\n",
       "    </tr>\n",
       "  </thead>\n",
       "  <tbody>\n",
       "    <tr>\n",
       "      <th>5113</th>\n",
       "      <td>1.069999</td>\n",
       "      <td>0.766553</td>\n",
       "      <td>-1.057464</td>\n",
       "      <td>1.744668</td>\n",
       "      <td>-0.896413</td>\n",
       "      <td>1</td>\n",
       "      <td>0</td>\n",
       "      <td>-1.266658</td>\n",
       "      <td>0.0</td>\n",
       "      <td>0.0</td>\n",
       "      <td>0.0</td>\n",
       "    </tr>\n",
       "    <tr>\n",
       "      <th>418</th>\n",
       "      <td>-0.081829</td>\n",
       "      <td>0.671856</td>\n",
       "      <td>0.477062</td>\n",
       "      <td>-1.225643</td>\n",
       "      <td>0.812901</td>\n",
       "      <td>0</td>\n",
       "      <td>0</td>\n",
       "      <td>0.111575</td>\n",
       "      <td>0.0</td>\n",
       "      <td>0.0</td>\n",
       "      <td>0.0</td>\n",
       "    </tr>\n",
       "    <tr>\n",
       "      <th>2710</th>\n",
       "      <td>-0.175220</td>\n",
       "      <td>-0.180410</td>\n",
       "      <td>-1.057464</td>\n",
       "      <td>0.210518</td>\n",
       "      <td>0.812901</td>\n",
       "      <td>1</td>\n",
       "      <td>1</td>\n",
       "      <td>1.612366</td>\n",
       "      <td>1.0</td>\n",
       "      <td>0.0</td>\n",
       "      <td>1.0</td>\n",
       "    </tr>\n",
       "    <tr>\n",
       "      <th>5000</th>\n",
       "      <td>1.900146</td>\n",
       "      <td>2.755174</td>\n",
       "      <td>1.397778</td>\n",
       "      <td>0.858533</td>\n",
       "      <td>0.812901</td>\n",
       "      <td>0</td>\n",
       "      <td>1</td>\n",
       "      <td>-0.125871</td>\n",
       "      <td>1.0</td>\n",
       "      <td>0.0</td>\n",
       "      <td>0.0</td>\n",
       "    </tr>\n",
       "    <tr>\n",
       "      <th>3760</th>\n",
       "      <td>1.910523</td>\n",
       "      <td>-0.085714</td>\n",
       "      <td>0.783967</td>\n",
       "      <td>0.164522</td>\n",
       "      <td>-0.896413</td>\n",
       "      <td>0</td>\n",
       "      <td>0</td>\n",
       "      <td>1.312308</td>\n",
       "      <td>0.0</td>\n",
       "      <td>1.0</td>\n",
       "      <td>1.0</td>\n",
       "    </tr>\n",
       "  </tbody>\n",
       "</table>\n",
       "</div>"
      ],
      "text/plain": [
       "      CreditScore       Age    Tenure   Balance  NumOfProducts  HasCrCard  \\\n",
       "5113     1.069999  0.766553 -1.057464  1.744668      -0.896413          1   \n",
       "418     -0.081829  0.671856  0.477062 -1.225643       0.812901          0   \n",
       "2710    -0.175220 -0.180410 -1.057464  0.210518       0.812901          1   \n",
       "5000     1.900146  2.755174  1.397778  0.858533       0.812901          0   \n",
       "3760     1.910523 -0.085714  0.783967  0.164522      -0.896413          0   \n",
       "\n",
       "      IsActiveMember  EstimatedSalary  Geography_Germany  Geography_Spain  \\\n",
       "5113               0        -1.266658                0.0              0.0   \n",
       "418                0         0.111575                0.0              0.0   \n",
       "2710               1         1.612366                1.0              0.0   \n",
       "5000               1        -0.125871                1.0              0.0   \n",
       "3760               0         1.312308                0.0              1.0   \n",
       "\n",
       "      Gender_Male  \n",
       "5113          0.0  \n",
       "418           0.0  \n",
       "2710          1.0  \n",
       "5000          0.0  \n",
       "3760          1.0  "
      ]
     },
     "metadata": {},
     "output_type": "display_data"
    },
    {
     "data": {
      "text/html": [
       "<div>\n",
       "<style scoped>\n",
       "    .dataframe tbody tr th:only-of-type {\n",
       "        vertical-align: middle;\n",
       "    }\n",
       "\n",
       "    .dataframe tbody tr th {\n",
       "        vertical-align: top;\n",
       "    }\n",
       "\n",
       "    .dataframe thead th {\n",
       "        text-align: right;\n",
       "    }\n",
       "</style>\n",
       "<table border=\"1\" class=\"dataframe\">\n",
       "  <thead>\n",
       "    <tr style=\"text-align: right;\">\n",
       "      <th></th>\n",
       "      <th>CreditScore</th>\n",
       "      <th>Age</th>\n",
       "      <th>Tenure</th>\n",
       "      <th>Balance</th>\n",
       "      <th>NumOfProducts</th>\n",
       "      <th>HasCrCard</th>\n",
       "      <th>IsActiveMember</th>\n",
       "      <th>EstimatedSalary</th>\n",
       "      <th>Geography_Germany</th>\n",
       "      <th>Geography_Spain</th>\n",
       "      <th>Gender_Male</th>\n",
       "    </tr>\n",
       "  </thead>\n",
       "  <tbody>\n",
       "    <tr>\n",
       "      <th>7867</th>\n",
       "      <td>-0.112959</td>\n",
       "      <td>0.671856</td>\n",
       "      <td>-0.443653</td>\n",
       "      <td>-1.225643</td>\n",
       "      <td>-0.896413</td>\n",
       "      <td>1</td>\n",
       "      <td>1</td>\n",
       "      <td>0.971047</td>\n",
       "      <td>0.0</td>\n",
       "      <td>1.0</td>\n",
       "      <td>0.0</td>\n",
       "    </tr>\n",
       "    <tr>\n",
       "      <th>1402</th>\n",
       "      <td>1.101130</td>\n",
       "      <td>-0.937980</td>\n",
       "      <td>1.090872</td>\n",
       "      <td>0.860731</td>\n",
       "      <td>-0.896413</td>\n",
       "      <td>1</td>\n",
       "      <td>0</td>\n",
       "      <td>-0.397596</td>\n",
       "      <td>0.0</td>\n",
       "      <td>0.0</td>\n",
       "      <td>1.0</td>\n",
       "    </tr>\n",
       "    <tr>\n",
       "      <th>8606</th>\n",
       "      <td>1.619971</td>\n",
       "      <td>0.293071</td>\n",
       "      <td>0.170157</td>\n",
       "      <td>-1.225643</td>\n",
       "      <td>0.812901</td>\n",
       "      <td>1</td>\n",
       "      <td>1</td>\n",
       "      <td>-0.442212</td>\n",
       "      <td>0.0</td>\n",
       "      <td>1.0</td>\n",
       "      <td>1.0</td>\n",
       "    </tr>\n",
       "    <tr>\n",
       "      <th>8885</th>\n",
       "      <td>0.177592</td>\n",
       "      <td>0.577160</td>\n",
       "      <td>-0.136748</td>\n",
       "      <td>0.415292</td>\n",
       "      <td>0.812901</td>\n",
       "      <td>1</td>\n",
       "      <td>1</td>\n",
       "      <td>1.007858</td>\n",
       "      <td>0.0</td>\n",
       "      <td>1.0</td>\n",
       "      <td>1.0</td>\n",
       "    </tr>\n",
       "    <tr>\n",
       "      <th>6494</th>\n",
       "      <td>0.499274</td>\n",
       "      <td>-1.032676</td>\n",
       "      <td>0.783967</td>\n",
       "      <td>-1.225643</td>\n",
       "      <td>0.812901</td>\n",
       "      <td>1</td>\n",
       "      <td>1</td>\n",
       "      <td>-1.349238</td>\n",
       "      <td>0.0</td>\n",
       "      <td>0.0</td>\n",
       "      <td>1.0</td>\n",
       "    </tr>\n",
       "  </tbody>\n",
       "</table>\n",
       "</div>"
      ],
      "text/plain": [
       "      CreditScore       Age    Tenure   Balance  NumOfProducts  HasCrCard  \\\n",
       "7867    -0.112959  0.671856 -0.443653 -1.225643      -0.896413          1   \n",
       "1402     1.101130 -0.937980  1.090872  0.860731      -0.896413          1   \n",
       "8606     1.619971  0.293071  0.170157 -1.225643       0.812901          1   \n",
       "8885     0.177592  0.577160 -0.136748  0.415292       0.812901          1   \n",
       "6494     0.499274 -1.032676  0.783967 -1.225643       0.812901          1   \n",
       "\n",
       "      IsActiveMember  EstimatedSalary  Geography_Germany  Geography_Spain  \\\n",
       "7867               1         0.971047                0.0              1.0   \n",
       "1402               0        -0.397596                0.0              0.0   \n",
       "8606               1        -0.442212                0.0              1.0   \n",
       "8885               1         1.007858                0.0              1.0   \n",
       "6494               1        -1.349238                0.0              0.0   \n",
       "\n",
       "      Gender_Male  \n",
       "7867          0.0  \n",
       "1402          1.0  \n",
       "8606          1.0  \n",
       "8885          1.0  \n",
       "6494          1.0  "
      ]
     },
     "metadata": {},
     "output_type": "display_data"
    }
   ],
   "source": [
    "features_train[numeric] = scaler.transform(features_train[numeric])\n",
    "    \n",
    "features_valid[numeric] = scaler.transform(features_valid[numeric])\n",
    "    \n",
    "features_test[numeric] = scaler.transform(features_test[numeric])\n",
    "\n",
    "display(features_train.head(), features_valid.head(), features_test.head())"
   ]
  },
  {
   "cell_type": "markdown",
   "id": "187ff2dc",
   "metadata": {},
   "source": [
    "Числовые данные масштабированны, а качественные закодированы."
   ]
  },
  {
   "cell_type": "markdown",
   "id": "6fee54b4",
   "metadata": {},
   "source": [
    "В результате подготовки данных мы \n",
    "- Разбили исходные данные на три выборки в соотношении 70/15/15.\n",
    "- Удалили 3 столбца.\n",
    "- Поставили значение-заглушку в столбце `Tenure`.\n",
    "- Закодировали 2 столбца, избежав дамми-ловушки.\n",
    "- Масштабировали данные, где это необходимо."
   ]
  },
  {
   "cell_type": "markdown",
   "id": "6debc5bd",
   "metadata": {},
   "source": [
    "Данные готовы к исследованию наших задач, можно приступать."
   ]
  },
  {
   "cell_type": "markdown",
   "id": "98a739d1",
   "metadata": {},
   "source": [
    "## Исследование задачи"
   ]
  },
  {
   "cell_type": "markdown",
   "id": "21a7fe25",
   "metadata": {},
   "source": [
    "### LogisticRegression"
   ]
  },
  {
   "cell_type": "code",
   "execution_count": 13,
   "id": "e7a9b268",
   "metadata": {},
   "outputs": [
    {
     "data": {
      "text/plain": [
       "{'C': 0.5, 'penalty': 'l2', 'solver': 'liblinear'}"
      ]
     },
     "execution_count": 13,
     "metadata": {},
     "output_type": "execute_result"
    }
   ],
   "source": [
    "params = { 'penalty': ['l1', 'l2', 'elasticnet', None],\n",
    "           'C': [0, 0.2, 0.5, 0.7, 1],\n",
    "           'solver': ['lbfgs', 'liblinear', 'newton-cg', 'newton-cholesky', 'sag', 'saga']}\n",
    "\n",
    "lg_model = LogisticRegression(random_state=12345)\n",
    "grid = GridSearchCV(lg_model, params, scoring = 'f1', cv=5)\n",
    "grid.fit(features_train, target_train)\n",
    "\n",
    "grid.best_params_"
   ]
  },
  {
   "cell_type": "markdown",
   "id": "7e0ae0de",
   "metadata": {},
   "source": [
    "Для получения лучших гиперпараметров будем и дальше использовать инструмент `GridSearchCV`, который автоматически подбирает лучшие гиперпараметры модели из предложенных. Посмотрим на метрики `f1` и `AUC-ROC` для линейной регрессии с лучшими гиперпараметрами."
   ]
  },
  {
   "cell_type": "code",
   "execution_count": 14,
   "id": "28266e6a",
   "metadata": {},
   "outputs": [
    {
     "name": "stdout",
     "output_type": "stream",
     "text": [
      "AUC-ROC: 0.7579299841387165 \n",
      "f1: 0.3098591549295775\n"
     ]
    }
   ],
   "source": [
    "lg_model = LogisticRegression(penalty='l2', C=0.5, solver='liblinear', random_state=12345)\n",
    "lg_model.fit(features_train, target_train)\n",
    "probabilities_valid = lg_model.predict_proba(features_valid)\n",
    "probabilities_one_valid = probabilities_valid[:, 1]\n",
    "predicted_valid = lg_model.predict(features_valid)\n",
    "\n",
    "print('AUC-ROC:', roc_auc_score(target_valid, probabilities_one_valid), '\\n'\n",
    "      'f1:', f1_score(target_valid, predicted_valid))"
   ]
  },
  {
   "cell_type": "markdown",
   "id": "a12d44a3",
   "metadata": {},
   "source": [
    "`LogisticRegression` показывает чрезвычайно низкую метрику `f1`. Продолжим наше исследование моделей."
   ]
  },
  {
   "cell_type": "markdown",
   "id": "b2463c25",
   "metadata": {},
   "source": [
    "### DecisionTreeClassifier"
   ]
  },
  {
   "cell_type": "code",
   "execution_count": 15,
   "id": "987c9f79",
   "metadata": {},
   "outputs": [
    {
     "data": {
      "text/plain": [
       "{'criterion': 'gini',\n",
       " 'max_depth': 7,\n",
       " 'min_samples_leaf': 1,\n",
       " 'min_samples_split': 2}"
      ]
     },
     "execution_count": 15,
     "metadata": {},
     "output_type": "execute_result"
    }
   ],
   "source": [
    "params = {'criterion': ['gini', 'entropy'],\n",
    "          'max_depth': range(6, 19),\n",
    "          'min_samples_split': range(1, 4),\n",
    "          'min_samples_leaf': range(1, 8)}\n",
    "\n",
    "dtc_model = DecisionTreeClassifier(random_state=12345)\n",
    "grid = GridSearchCV(dtc_model, params, scoring = 'f1', cv=5)\n",
    "grid.fit(features_train, target_train)\n",
    "\n",
    "grid.best_params_"
   ]
  },
  {
   "cell_type": "code",
   "execution_count": 16,
   "id": "b0169f70",
   "metadata": {},
   "outputs": [
    {
     "name": "stdout",
     "output_type": "stream",
     "text": [
      "AUC-ROC: 0.8242935415904948 \n",
      "f1: 0.5590551181102362\n"
     ]
    }
   ],
   "source": [
    "dtc_model = DecisionTreeClassifier(criterion='gini', max_depth=7, min_samples_leaf=1, \n",
    "                                   min_samples_split=2, random_state=12345)\n",
    "dtc_model.fit(features_train, target_train)\n",
    "probabilities_valid = dtc_model.predict_proba(features_valid)\n",
    "probabilities_one_valid = probabilities_valid[:, 1]\n",
    "predicted_valid = dtc_model.predict(features_valid)\n",
    "\n",
    "print('AUC-ROC:', roc_auc_score(target_valid, probabilities_one_valid), '\\n'\n",
    "      'f1:', f1_score(target_valid, predicted_valid))"
   ]
  },
  {
   "cell_type": "markdown",
   "id": "cc767031",
   "metadata": {},
   "source": [
    "`DecisionTreeClassifier` показывает себя намного лучше, чем `LogisticRegression` и мы почти получили нужный показатель метрики. Будем пробовать дальше."
   ]
  },
  {
   "cell_type": "markdown",
   "id": "d16ed92f",
   "metadata": {},
   "source": [
    "### RandomForestClassifier"
   ]
  },
  {
   "cell_type": "code",
   "execution_count": 17,
   "id": "8dca78bb",
   "metadata": {},
   "outputs": [
    {
     "data": {
      "text/plain": [
       "{'criterion': 'gini',\n",
       " 'max_depth': 21,\n",
       " 'min_samples_leaf': 2,\n",
       " 'min_samples_split': 2,\n",
       " 'n_estimators': 30}"
      ]
     },
     "execution_count": 17,
     "metadata": {},
     "output_type": "execute_result"
    }
   ],
   "source": [
    "params = {'n_estimators': [30, 46, 5],\n",
    "          'criterion': ['gini', 'entropy'],\n",
    "          'max_depth': range(6, 22, 3),\n",
    "          'min_samples_split': range(1, 4),\n",
    "          'min_samples_leaf': range(1, 6)}\n",
    "\n",
    "rfc_model = RandomForestClassifier(random_state=12345)\n",
    "grid = GridSearchCV(rfc_model, params, scoring = 'f1', cv=5)\n",
    "grid.fit(features_train, target_train)\n",
    "\n",
    "grid.best_params_"
   ]
  },
  {
   "cell_type": "code",
   "execution_count": 18,
   "id": "021200e8",
   "metadata": {},
   "outputs": [
    {
     "name": "stdout",
     "output_type": "stream",
     "text": [
      "AUC-ROC: 0.8598236056932276 \n",
      "f1: 0.5884615384615385\n"
     ]
    }
   ],
   "source": [
    "rfc_model = RandomForestClassifier(criterion='gini', max_depth=21, min_samples_leaf=2, \n",
    "                                   min_samples_split=2, n_estimators=30, random_state=12345)\n",
    "rfc_model.fit(features_train, target_train)\n",
    "probabilities_valid = rfc_model.predict_proba(features_valid)\n",
    "probabilities_one_valid = probabilities_valid[:, 1]\n",
    "predicted_valid = rfc_model.predict(features_valid)\n",
    "\n",
    "print('AUC-ROC:', roc_auc_score(target_valid, probabilities_one_valid), '\\n'\n",
    "      'f1:', f1_score(target_valid, predicted_valid))"
   ]
  },
  {
   "cell_type": "markdown",
   "id": "acf532b2",
   "metadata": {},
   "source": [
    "Ни одна из моделей не достигает достаточной метрики `f1`. Скорее всего причина этому кроется в дисбалансе классов. На одном из графиков столбца целевого признака `Exited` в самом начале видно соотношение оставшихся клиентов к ушедшим 1:4. "
   ]
  },
  {
   "cell_type": "markdown",
   "id": "4f584faf",
   "metadata": {},
   "source": [
    "## Борьба с дисбалансом"
   ]
  },
  {
   "cell_type": "markdown",
   "id": "285711c5",
   "metadata": {},
   "source": [
    "### Изменение веса классов"
   ]
  },
  {
   "cell_type": "markdown",
   "id": "cc568025",
   "metadata": {},
   "source": [
    "Для начала попробуем применить метод изменения веса классов, для этого установим гиперпараметр `class_weight='balanced'`. `LogisticRegression` ранее показал крайне низкие результаты, поэтому далее мы не будем использовать эту модель."
   ]
  },
  {
   "cell_type": "markdown",
   "id": "c02cc36f",
   "metadata": {},
   "source": [
    "#### DecisionTreeClassifier"
   ]
  },
  {
   "cell_type": "code",
   "execution_count": 19,
   "id": "d620e166",
   "metadata": {},
   "outputs": [
    {
     "data": {
      "text/plain": [
       "{'class_weight': 'balanced',\n",
       " 'criterion': 'entropy',\n",
       " 'max_depth': 7,\n",
       " 'min_samples_leaf': 7,\n",
       " 'min_samples_split': 2}"
      ]
     },
     "execution_count": 19,
     "metadata": {},
     "output_type": "execute_result"
    }
   ],
   "source": [
    "params = {'criterion': ['gini', 'entropy'],\n",
    "          'max_depth': range(6, 19),\n",
    "          'min_samples_split': range(1, 4),\n",
    "          'min_samples_leaf': range(1, 8),\n",
    "          'class_weight': ['balanced']\n",
    "         }\n",
    "\n",
    "dtc_model = DecisionTreeClassifier(random_state=12345)\n",
    "grid = GridSearchCV(dtc_model, params, scoring = 'f1', cv=5)\n",
    "grid.fit(features_train, target_train)\n",
    "\n",
    "grid.best_params_"
   ]
  },
  {
   "cell_type": "code",
   "execution_count": 20,
   "id": "fabdb5c3",
   "metadata": {},
   "outputs": [
    {
     "name": "stdout",
     "output_type": "stream",
     "text": [
      "AUC-ROC: 0.8478066449045298 \n",
      "f1: 0.6026731470230863\n"
     ]
    }
   ],
   "source": [
    "dtc_model = DecisionTreeClassifier(class_weight='balanced', criterion='entropy', max_depth=7, \n",
    "                                   min_samples_leaf=7, min_samples_split=2, random_state=12345)\n",
    "\n",
    "dtc_model.fit(features_train, target_train)\n",
    "probabilities_valid = dtc_model.predict_proba(features_valid)\n",
    "probabilities_one_valid = probabilities_valid[:, 1]\n",
    "predicted_valid = dtc_model.predict(features_valid)\n",
    "\n",
    "print('AUC-ROC:', roc_auc_score(target_valid, probabilities_one_valid), '\\n'\n",
    "      'f1:', f1_score(target_valid, predicted_valid))"
   ]
  },
  {
   "cell_type": "markdown",
   "id": "da578b21",
   "metadata": {},
   "source": [
    "Метод взвешивания классов показал улучшение метрики `f1`. Показатель метрики достиг цели."
   ]
  },
  {
   "cell_type": "markdown",
   "id": "0b2521d7",
   "metadata": {},
   "source": [
    "#### RandomForestClassifier"
   ]
  },
  {
   "cell_type": "code",
   "execution_count": 21,
   "id": "1b1f7240",
   "metadata": {},
   "outputs": [
    {
     "data": {
      "text/plain": [
       "{'class_weight': 'balanced',\n",
       " 'criterion': 'gini',\n",
       " 'max_depth': 15,\n",
       " 'min_samples_leaf': 4,\n",
       " 'min_samples_split': 2,\n",
       " 'n_estimators': 46}"
      ]
     },
     "execution_count": 21,
     "metadata": {},
     "output_type": "execute_result"
    }
   ],
   "source": [
    "params = {'n_estimators': [30, 46, 5],\n",
    "          'criterion': ['gini', 'entropy'],\n",
    "          'max_depth': range(6, 22, 3),\n",
    "          'min_samples_split': range(1, 4),\n",
    "          'min_samples_leaf': range(1, 7),\n",
    "          'class_weight': ['balanced']}\n",
    "\n",
    "rfc_model = RandomForestClassifier(random_state=12345)\n",
    "grid = GridSearchCV(rfc_model, params, scoring = 'f1', cv=5)\n",
    "grid.fit(features_train, target_train)\n",
    "\n",
    "grid.best_params_"
   ]
  },
  {
   "cell_type": "code",
   "execution_count": 22,
   "id": "42ad0a0b",
   "metadata": {},
   "outputs": [
    {
     "name": "stdout",
     "output_type": "stream",
     "text": [
      "AUC-ROC: 0.8685354748258021 \n",
      "f1: 0.6396103896103896\n"
     ]
    }
   ],
   "source": [
    "rfc_model = RandomForestClassifier(class_weight='balanced', criterion='gini', max_depth=15, \n",
    "                                   min_samples_leaf=4, min_samples_split=2, n_estimators=46, \n",
    "                                   random_state=12345)\n",
    "\n",
    "rfc_model.fit(features_train, target_train)\n",
    "probabilities_valid = rfc_model.predict_proba(features_valid)\n",
    "probabilities_one_valid = probabilities_valid[:, 1]\n",
    "predicted_valid = rfc_model.predict(features_valid)\n",
    "\n",
    "print('AUC-ROC:', roc_auc_score(target_valid, probabilities_one_valid), '\\n'\n",
    "      'f1:', f1_score(target_valid, predicted_valid))"
   ]
  },
  {
   "cell_type": "markdown",
   "id": "a4c7a08a",
   "metadata": {},
   "source": [
    "Изменение гиперпараметра `class weight` для `RandomForestClassifier` дало значительный прирост метрики `f1`."
   ]
  },
  {
   "cell_type": "markdown",
   "id": "458a9562",
   "metadata": {},
   "source": [
    "Предположение о том, что дисбаланс классов оказывает негативное влияние на обучение наших моделей подтвердилось, использование гиперпараметра `class weght='balanced'` оправдано. Попробуем увеличить метрику ещё больше, применив метод `SMOTE`."
   ]
  },
  {
   "cell_type": "markdown",
   "id": "474bce38",
   "metadata": {},
   "source": [
    "### SMOTE"
   ]
  },
  {
   "cell_type": "code",
   "execution_count": 23,
   "id": "83fdf07a",
   "metadata": {},
   "outputs": [],
   "source": [
    "sm = SMOTE(sampling_strategy = 'auto',\n",
    "            k_neighbors=5,\n",
    "            random_state=12345)\n",
    "features_train_sm, target_train_sm = sm.fit_resample(features_train, target_train) "
   ]
  },
  {
   "cell_type": "markdown",
   "id": "413af29b",
   "metadata": {},
   "source": [
    "Применяя метод SMOTE мы избавляемся от дисбаланса классов. Посмотрим на значения целевого признака."
   ]
  },
  {
   "cell_type": "code",
   "execution_count": 24,
   "id": "a8652f57",
   "metadata": {},
   "outputs": [
    {
     "data": {
      "image/png": "[encoded data removed]",
      "text/plain": [
       "<Figure size 432x288 with 1 Axes>"
      ]
     },
     "metadata": {
      "needs_background": "light"
     },
     "output_type": "display_data"
    }
   ],
   "source": [
    "target_train_sm.hist()\n",
    "plt.show()"
   ]
  },
  {
   "cell_type": "markdown",
   "id": "fc665ace",
   "metadata": {},
   "source": [
    "Мы избавились от дисбаланса классов, посмотрим, как это повлияло на эффективность выбранной модели."
   ]
  },
  {
   "cell_type": "markdown",
   "id": "2017248d",
   "metadata": {},
   "source": [
    "#### DecisionTreeClassifier"
   ]
  },
  {
   "cell_type": "code",
   "execution_count": 25,
   "id": "ecfb86af",
   "metadata": {},
   "outputs": [
    {
     "data": {
      "text/plain": [
       "{'criterion': 'entropy',\n",
       " 'max_depth': 18,\n",
       " 'min_samples_leaf': 1,\n",
       " 'min_samples_split': 2}"
      ]
     },
     "execution_count": 25,
     "metadata": {},
     "output_type": "execute_result"
    }
   ],
   "source": [
    "params = {'criterion': ['gini', 'entropy'],\n",
    "          'max_depth': range(6, 19),\n",
    "          'min_samples_split': range(1, 4),\n",
    "          'min_samples_leaf': range(1, 8)}\n",
    "\n",
    "dtc_model = DecisionTreeClassifier(random_state=12345)\n",
    "grid = GridSearchCV(dtc_model, params, scoring = 'f1', cv=5)\n",
    "grid.fit(features_train_sm, target_train_sm)\n",
    "\n",
    "grid.best_params_"
   ]
  },
  {
   "cell_type": "code",
   "execution_count": 26,
   "id": "cd361be5",
   "metadata": {},
   "outputs": [
    {
     "name": "stdout",
     "output_type": "stream",
     "text": [
      "AUC-ROC: 0.7306488396011268 \n",
      "f1: 0.5472779369627506\n"
     ]
    }
   ],
   "source": [
    "dtc_model = DecisionTreeClassifier(criterion='entropy', max_depth=15, \n",
    "                                   min_samples_leaf=1, min_samples_split=2, random_state=12345)\n",
    "dtc_model.fit(features_train_sm, target_train_sm)\n",
    "probabilities_valid = dtc_model.predict_proba(features_valid)\n",
    "probabilities_one_valid = probabilities_valid[:, 1]\n",
    "predicted_valid = dtc_model.predict(features_valid)\n",
    "\n",
    "print('AUC-ROC:', roc_auc_score(target_valid, probabilities_one_valid), '\\n'\n",
    "      'f1:', f1_score(target_valid, predicted_valid))"
   ]
  },
  {
   "cell_type": "markdown",
   "id": "d6416def",
   "metadata": {},
   "source": [
    "После балансировки классов метрика `f1` существенно упала."
   ]
  },
  {
   "cell_type": "markdown",
   "id": "016981dd",
   "metadata": {},
   "source": [
    "#### RandomForestClassifier"
   ]
  },
  {
   "cell_type": "code",
   "execution_count": 27,
   "id": "84a95322",
   "metadata": {},
   "outputs": [
    {
     "data": {
      "text/plain": [
       "{'criterion': 'gini',\n",
       " 'max_depth': 21,\n",
       " 'min_samples_leaf': 1,\n",
       " 'min_samples_split': 2,\n",
       " 'n_estimators': 46}"
      ]
     },
     "execution_count": 27,
     "metadata": {},
     "output_type": "execute_result"
    }
   ],
   "source": [
    "params = {'n_estimators': [30, 46, 5],\n",
    "          'criterion': ['gini', 'entropy'],\n",
    "          'max_depth': range(6, 22, 3),\n",
    "          'min_samples_split': range(1, 4),\n",
    "          'min_samples_leaf': range(1, 7)}\n",
    "\n",
    "rfc_model = RandomForestClassifier(random_state=12345)\n",
    "grid = GridSearchCV(rfc_model, params, scoring = 'f1', cv=5)\n",
    "grid.fit(features_train_sm, target_train_sm)\n",
    "\n",
    "grid.best_params_"
   ]
  },
  {
   "cell_type": "code",
   "execution_count": 28,
   "id": "8a458b68",
   "metadata": {},
   "outputs": [
    {
     "name": "stdout",
     "output_type": "stream",
     "text": [
      "AUC-ROC: 0.849202069594998 \n",
      "f1: 0.6260296540362439\n"
     ]
    }
   ],
   "source": [
    "rfc_model = RandomForestClassifier(criterion='gini', max_depth=21, \n",
    "                                   min_samples_leaf=1, min_samples_split=2, n_estimators=46, \n",
    "                                   random_state=12345)\n",
    "\n",
    "rfc_model.fit(features_train_sm, target_train_sm)\n",
    "probabilities_valid = rfc_model.predict_proba(features_valid)\n",
    "probabilities_one_valid = probabilities_valid[:, 1]\n",
    "predicted_valid = rfc_model.predict(features_valid)\n",
    "\n",
    "print('AUC-ROC:', roc_auc_score(target_valid, probabilities_one_valid), '\\n'\n",
    "      'f1:', f1_score(target_valid, predicted_valid))"
   ]
  },
  {
   "cell_type": "markdown",
   "id": "98ece265",
   "metadata": {},
   "source": [
    "Метрика уменьшилась также, как и у `DecisionTreeClassifier`."
   ]
  },
  {
   "cell_type": "markdown",
   "id": "4a1a4774",
   "metadata": {},
   "source": [
    "Использование метода SMOTE не дало положительных результатов. Его использование неоправдано. Время проверить модель на тестовой выборке."
   ]
  },
  {
   "cell_type": "markdown",
   "id": "7018cbcc",
   "metadata": {},
   "source": [
    "## Тестирование модели"
   ]
  },
  {
   "cell_type": "code",
   "execution_count": 29,
   "id": "5ae00a27",
   "metadata": {},
   "outputs": [
    {
     "name": "stdout",
     "output_type": "stream",
     "text": [
      "AUC-ROC: 0.8625543905954638 \n",
      "f1: 0.6287625418060201\n"
     ]
    }
   ],
   "source": [
    "rfc_model = RandomForestClassifier(class_weight='balanced', criterion='gini', max_depth=15, \n",
    "                                   min_samples_leaf=4, min_samples_split=2, n_estimators=46, \n",
    "                                   random_state=12345)\n",
    "\n",
    "rfc_model.fit(features_train, target_train)\n",
    "probabilities_test = rfc_model.predict_proba(features_test)\n",
    "probabilities_one_test = probabilities_test[:, 1]\n",
    "predicted_test = rfc_model.predict(features_test)\n",
    "\n",
    "print('AUC-ROC:', roc_auc_score(target_test, probabilities_one_test), '\\n'\n",
    "      'f1:', f1_score(target_test, predicted_test))"
   ]
  },
  {
   "cell_type": "markdown",
   "id": "50cb2ee6",
   "metadata": {},
   "source": [
    "`RandomForestClassifier` Прошёл тест, его `f1-мера` составила примерно 0.625, что удовлетворяет поставленную нами цель. Также эта модель имеет высокую `AUC-ROC` метрику, что свидетельствует о хорошем соотношении `precision` и `recall`. Ради интереса исследуем `accuracy` полученной модели и проверим её на адекватность."
   ]
  },
  {
   "cell_type": "markdown",
   "id": "fa0a2bb3",
   "metadata": {},
   "source": [
    "# Проверка модели на адекватность"
   ]
  },
  {
   "cell_type": "code",
   "execution_count": 30,
   "id": "e4ef7a0a",
   "metadata": {},
   "outputs": [
    {
     "name": "stdout",
     "output_type": "stream",
     "text": [
      "0.852\n"
     ]
    }
   ],
   "source": [
    "predicted_test = rfc_model.predict(features_test)\n",
    "print(accuracy_score(target_test, predicted_test))"
   ]
  },
  {
   "cell_type": "markdown",
   "id": "aff0663e",
   "metadata": {},
   "source": [
    "`accuracy` лучшей моделие составила 85,2%, что, кажется, весьма неплохо, посмотрим, какой результат даст модель-пустышка."
   ]
  },
  {
   "cell_type": "code",
   "execution_count": 31,
   "id": "f82200df",
   "metadata": {},
   "outputs": [
    {
     "name": "stdout",
     "output_type": "stream",
     "text": [
      "0.7963\n"
     ]
    }
   ],
   "source": [
    "dummy = DummyClassifier(strategy=\"most_frequent\")\n",
    "dummy.fit(features_train, target_train)\n",
    "accident = dummy.score(features, target)\n",
    "print(accident)"
   ]
  },
  {
   "cell_type": "markdown",
   "id": "70718140",
   "metadata": {},
   "source": [
    "`dummy-модель` показала `accuracy` 79,6%. Наша модель отрабатывает по метрике accuracy всего на 5,57% лучше, но для бизнеса важен каждый процент."
   ]
  },
  {
   "cell_type": "markdown",
   "id": "6cc44d5d",
   "metadata": {},
   "source": [
    "Модель работает адекватно."
   ]
  },
  {
   "cell_type": "markdown",
   "id": "26cd9d16",
   "metadata": {},
   "source": [
    "# Заключение"
   ]
  },
  {
   "cell_type": "markdown",
   "id": "1fca5904",
   "metadata": {},
   "source": [
    "В процессе разработки лучшей модели мы \n",
    "- Подготовили данные \n",
    "- Изучили, как ведут себя 3 разных модели на наших данных\n",
    "- Использовали 2 метода борьбы с дисбалансом классов (в итоге применили 1)\n",
    "- Выбрали лучшую модель и проверили её на адекватность, изучив различные метрики\n",
    "\n",
    "Лучшая модель: RandomForestClassifier\n",
    "\n",
    "\n",
    "Её гиперпараметры:\n",
    "- 'class_weight': 'balanced'\n",
    "- 'criterion': 'gini'\n",
    "- 'max_depth': 15\n",
    "- 'min_samples_leaf': 4\n",
    "- 'min_samples_split': 2\n",
    "- 'n_estimators': 46\n",
    "\n",
    "В результате нам удалось достичь следующих показателей метрик на тестовой выборке:\n",
    "- `f1`: 0.6287625418060201\n",
    "- `AUC-ROC`: 0.8625543905954638 \n",
    "- `accuracy`: 0.852\n",
    "\n",
    "\n",
    "Изначальная цель проекта выполнена."
   ]
  }
 ],
 "metadata": {
  "ExecuteTimeLog": [
   {
    "duration": 12189,
    "start_time": "2023-01-26T09:39:00.904Z"
   },
   {
    "duration": 1376,
    "start_time": "2023-01-26T09:39:13.096Z"
   },
   {
    "duration": 175,
    "start_time": "2023-01-26T09:39:14.482Z"
   },
   {
    "duration": 0,
    "start_time": "2023-01-26T09:39:14.661Z"
   },
   {
    "duration": 0,
    "start_time": "2023-01-26T09:39:14.662Z"
   },
   {
    "duration": 0,
    "start_time": "2023-01-26T09:39:14.664Z"
   },
   {
    "duration": 0,
    "start_time": "2023-01-26T09:39:14.665Z"
   },
   {
    "duration": 0,
    "start_time": "2023-01-26T09:39:14.666Z"
   },
   {
    "duration": 0,
    "start_time": "2023-01-26T09:39:14.667Z"
   },
   {
    "duration": 0,
    "start_time": "2023-01-26T09:39:14.668Z"
   },
   {
    "duration": 0,
    "start_time": "2023-01-26T09:39:14.670Z"
   },
   {
    "duration": 0,
    "start_time": "2023-01-26T09:39:14.672Z"
   },
   {
    "duration": 0,
    "start_time": "2023-01-26T09:39:14.672Z"
   },
   {
    "duration": 0,
    "start_time": "2023-01-26T09:39:14.674Z"
   },
   {
    "duration": 0,
    "start_time": "2023-01-26T09:39:14.675Z"
   },
   {
    "duration": 0,
    "start_time": "2023-01-26T09:39:14.676Z"
   },
   {
    "duration": 0,
    "start_time": "2023-01-26T09:39:14.677Z"
   },
   {
    "duration": 0,
    "start_time": "2023-01-26T09:39:14.678Z"
   },
   {
    "duration": 0,
    "start_time": "2023-01-26T09:39:14.679Z"
   },
   {
    "duration": 0,
    "start_time": "2023-01-26T09:39:14.680Z"
   },
   {
    "duration": 0,
    "start_time": "2023-01-26T09:39:14.682Z"
   },
   {
    "duration": 0,
    "start_time": "2023-01-26T09:39:14.683Z"
   },
   {
    "duration": 0,
    "start_time": "2023-01-26T09:39:14.684Z"
   },
   {
    "duration": 0,
    "start_time": "2023-01-26T09:39:14.685Z"
   },
   {
    "duration": 0,
    "start_time": "2023-01-26T09:39:14.686Z"
   },
   {
    "duration": 0,
    "start_time": "2023-01-26T09:39:14.687Z"
   },
   {
    "duration": 0,
    "start_time": "2023-01-26T09:39:14.689Z"
   },
   {
    "duration": 0,
    "start_time": "2023-01-26T09:39:14.690Z"
   },
   {
    "duration": 0,
    "start_time": "2023-01-26T09:39:14.691Z"
   },
   {
    "duration": 0,
    "start_time": "2023-01-26T09:39:14.691Z"
   },
   {
    "duration": 0,
    "start_time": "2023-01-26T09:39:14.692Z"
   },
   {
    "duration": 0,
    "start_time": "2023-01-26T09:39:14.693Z"
   },
   {
    "duration": 4661,
    "start_time": "2023-01-26T09:57:20.259Z"
   },
   {
    "duration": 1249,
    "start_time": "2023-01-26T09:57:24.923Z"
   },
   {
    "duration": 110,
    "start_time": "2023-01-26T09:57:26.173Z"
   },
   {
    "duration": 1264,
    "start_time": "2023-01-26T09:57:26.286Z"
   },
   {
    "duration": 8,
    "start_time": "2023-01-26T09:57:27.553Z"
   },
   {
    "duration": 14,
    "start_time": "2023-01-26T09:57:27.563Z"
   },
   {
    "duration": 28,
    "start_time": "2023-01-26T09:57:27.579Z"
   },
   {
    "duration": 3,
    "start_time": "2023-01-26T09:57:27.608Z"
   },
   {
    "duration": 55,
    "start_time": "2023-01-26T09:57:27.612Z"
   },
   {
    "duration": 11,
    "start_time": "2023-01-26T09:57:27.770Z"
   },
   {
    "duration": 7,
    "start_time": "2023-01-26T09:57:27.783Z"
   },
   {
    "duration": 65877,
    "start_time": "2023-01-26T09:57:27.792Z"
   },
   {
    "duration": 169,
    "start_time": "2023-01-26T09:58:33.672Z"
   },
   {
    "duration": 59249,
    "start_time": "2023-01-26T09:58:33.845Z"
   },
   {
    "duration": 44,
    "start_time": "2023-01-26T09:59:33.096Z"
   },
   {
    "duration": 371176,
    "start_time": "2023-01-26T09:59:33.142Z"
   },
   {
    "duration": 304,
    "start_time": "2023-01-26T10:05:44.320Z"
   },
   {
    "duration": 64371,
    "start_time": "2023-01-26T10:05:44.626Z"
   },
   {
    "duration": 51,
    "start_time": "2023-01-26T10:06:48.999Z"
   },
   {
    "duration": 438354,
    "start_time": "2023-01-26T10:06:49.052Z"
   },
   {
    "duration": 420,
    "start_time": "2023-01-26T10:14:07.408Z"
   },
   {
    "duration": 56,
    "start_time": "2023-01-26T10:14:07.830Z"
   },
   {
    "duration": 160,
    "start_time": "2023-01-26T10:14:07.888Z"
   },
   {
    "duration": 108243,
    "start_time": "2023-01-26T10:14:08.050Z"
   },
   {
    "duration": 106,
    "start_time": "2023-01-26T10:15:56.296Z"
   },
   {
    "duration": 751494,
    "start_time": "2023-01-26T10:15:56.404Z"
   },
   {
    "duration": 962,
    "start_time": "2023-01-26T10:28:27.900Z"
   },
   {
    "duration": 13,
    "start_time": "2023-01-26T10:28:28.868Z"
   },
   {
    "duration": 86,
    "start_time": "2023-01-26T10:28:28.886Z"
   },
   {
    "duration": 313,
    "start_time": "2023-01-26T10:28:28.981Z"
   },
   {
    "duration": 20,
    "start_time": "2023-01-26T10:28:29.295Z"
   },
   {
    "duration": 31,
    "start_time": "2023-01-26T10:28:29.317Z"
   },
   {
    "duration": 4942,
    "start_time": "2023-01-26T10:58:37.015Z"
   },
   {
    "duration": 1422,
    "start_time": "2023-01-26T10:58:41.960Z"
   },
   {
    "duration": 178,
    "start_time": "2023-01-26T10:58:43.384Z"
   },
   {
    "duration": 0,
    "start_time": "2023-01-26T10:58:43.568Z"
   },
   {
    "duration": 0,
    "start_time": "2023-01-26T10:58:43.570Z"
   },
   {
    "duration": 0,
    "start_time": "2023-01-26T10:58:43.571Z"
   },
   {
    "duration": 0,
    "start_time": "2023-01-26T10:58:43.572Z"
   },
   {
    "duration": 0,
    "start_time": "2023-01-26T10:58:43.574Z"
   },
   {
    "duration": 0,
    "start_time": "2023-01-26T10:58:43.575Z"
   },
   {
    "duration": 0,
    "start_time": "2023-01-26T10:58:43.576Z"
   },
   {
    "duration": 0,
    "start_time": "2023-01-26T10:58:43.577Z"
   },
   {
    "duration": 0,
    "start_time": "2023-01-26T10:58:43.579Z"
   },
   {
    "duration": 0,
    "start_time": "2023-01-26T10:58:43.581Z"
   },
   {
    "duration": 0,
    "start_time": "2023-01-26T10:58:43.582Z"
   },
   {
    "duration": 0,
    "start_time": "2023-01-26T10:58:43.583Z"
   },
   {
    "duration": 0,
    "start_time": "2023-01-26T10:58:43.585Z"
   },
   {
    "duration": 0,
    "start_time": "2023-01-26T10:58:43.586Z"
   },
   {
    "duration": 0,
    "start_time": "2023-01-26T10:58:43.587Z"
   },
   {
    "duration": 0,
    "start_time": "2023-01-26T10:58:43.587Z"
   },
   {
    "duration": 0,
    "start_time": "2023-01-26T10:58:43.588Z"
   },
   {
    "duration": 0,
    "start_time": "2023-01-26T10:58:43.590Z"
   },
   {
    "duration": 0,
    "start_time": "2023-01-26T10:58:43.591Z"
   },
   {
    "duration": 0,
    "start_time": "2023-01-26T10:58:43.592Z"
   },
   {
    "duration": 0,
    "start_time": "2023-01-26T10:58:43.593Z"
   },
   {
    "duration": 0,
    "start_time": "2023-01-26T10:58:43.594Z"
   },
   {
    "duration": 0,
    "start_time": "2023-01-26T10:58:43.595Z"
   },
   {
    "duration": 0,
    "start_time": "2023-01-26T10:58:43.597Z"
   },
   {
    "duration": 0,
    "start_time": "2023-01-26T10:58:43.638Z"
   },
   {
    "duration": 0,
    "start_time": "2023-01-26T10:58:43.640Z"
   },
   {
    "duration": 0,
    "start_time": "2023-01-26T10:58:43.640Z"
   },
   {
    "duration": 0,
    "start_time": "2023-01-26T10:58:43.645Z"
   },
   {
    "duration": 0,
    "start_time": "2023-01-26T10:58:43.646Z"
   },
   {
    "duration": 92,
    "start_time": "2023-01-26T11:05:48.240Z"
   },
   {
    "duration": 1010,
    "start_time": "2023-01-26T11:05:56.056Z"
   },
   {
    "duration": 279,
    "start_time": "2023-01-26T11:06:00.057Z"
   },
   {
    "duration": 19562,
    "start_time": "2023-01-26T11:34:07.105Z"
   },
   {
    "duration": 187,
    "start_time": "2023-01-26T11:34:38.138Z"
   },
   {
    "duration": 14023,
    "start_time": "2023-01-26T18:39:40.380Z"
   },
   {
    "duration": 171,
    "start_time": "2023-01-26T18:42:03.593Z"
   },
   {
    "duration": 1203,
    "start_time": "2023-01-26T18:42:04.121Z"
   },
   {
    "duration": 6,
    "start_time": "2023-01-26T18:42:05.326Z"
   },
   {
    "duration": 7,
    "start_time": "2023-01-26T18:42:05.900Z"
   },
   {
    "duration": 14,
    "start_time": "2023-01-26T18:42:07.318Z"
   },
   {
    "duration": 6,
    "start_time": "2023-01-26T18:42:21.750Z"
   },
   {
    "duration": 4531,
    "start_time": "2023-01-26T18:44:12.714Z"
   },
   {
    "duration": 481,
    "start_time": "2023-01-26T18:56:46.219Z"
   },
   {
    "duration": 136,
    "start_time": "2023-01-26T18:57:07.376Z"
   },
   {
    "duration": 24,
    "start_time": "2023-01-26T18:58:05.676Z"
   },
   {
    "duration": 44,
    "start_time": "2023-01-26T18:58:59.845Z"
   },
   {
    "duration": 28,
    "start_time": "2023-01-26T18:59:06.125Z"
   },
   {
    "duration": 47,
    "start_time": "2023-01-26T18:59:22.834Z"
   },
   {
    "duration": 23,
    "start_time": "2023-01-26T18:59:34.501Z"
   },
   {
    "duration": 22,
    "start_time": "2023-01-26T18:59:59.094Z"
   },
   {
    "duration": 33,
    "start_time": "2023-01-26T19:00:10.396Z"
   },
   {
    "duration": 21,
    "start_time": "2023-01-26T19:00:20.382Z"
   },
   {
    "duration": 46,
    "start_time": "2023-01-26T19:01:41.066Z"
   },
   {
    "duration": 214,
    "start_time": "2023-01-26T19:01:51.282Z"
   },
   {
    "duration": 23,
    "start_time": "2023-01-26T19:02:23.460Z"
   },
   {
    "duration": 23,
    "start_time": "2023-01-26T19:02:34.838Z"
   },
   {
    "duration": 24,
    "start_time": "2023-01-26T19:02:52.784Z"
   },
   {
    "duration": 53,
    "start_time": "2023-01-26T19:03:41.569Z"
   },
   {
    "duration": 22,
    "start_time": "2023-01-26T19:03:42.406Z"
   },
   {
    "duration": 39,
    "start_time": "2023-01-26T19:04:03.227Z"
   },
   {
    "duration": 27,
    "start_time": "2023-01-26T19:04:04.451Z"
   },
   {
    "duration": 24,
    "start_time": "2023-01-26T19:04:15.030Z"
   },
   {
    "duration": 38,
    "start_time": "2023-01-26T19:04:19.995Z"
   },
   {
    "duration": 37,
    "start_time": "2023-01-26T19:04:20.220Z"
   },
   {
    "duration": 25,
    "start_time": "2023-01-26T19:05:09.636Z"
   },
   {
    "duration": 136,
    "start_time": "2023-01-26T19:05:17.607Z"
   },
   {
    "duration": 48,
    "start_time": "2023-01-26T19:05:30.635Z"
   },
   {
    "duration": 132,
    "start_time": "2023-01-26T19:06:03.381Z"
   },
   {
    "duration": 1232,
    "start_time": "2023-01-26T19:06:03.920Z"
   },
   {
    "duration": 5,
    "start_time": "2023-01-26T19:06:05.154Z"
   },
   {
    "duration": 8,
    "start_time": "2023-01-26T19:06:06.214Z"
   },
   {
    "duration": 35,
    "start_time": "2023-01-26T19:06:09.995Z"
   },
   {
    "duration": 24,
    "start_time": "2023-01-26T19:15:27.260Z"
   },
   {
    "duration": 40,
    "start_time": "2023-01-26T19:16:29.519Z"
   },
   {
    "duration": 42,
    "start_time": "2023-01-26T19:16:38.527Z"
   },
   {
    "duration": 43,
    "start_time": "2023-01-26T19:16:52.873Z"
   },
   {
    "duration": 38,
    "start_time": "2023-01-26T19:16:55.995Z"
   },
   {
    "duration": 24,
    "start_time": "2023-01-26T19:17:16.778Z"
   },
   {
    "duration": 45,
    "start_time": "2023-01-26T19:17:19.128Z"
   },
   {
    "duration": 39,
    "start_time": "2023-01-26T19:17:19.370Z"
   },
   {
    "duration": 44,
    "start_time": "2023-01-26T19:17:32.445Z"
   },
   {
    "duration": 22,
    "start_time": "2023-01-26T19:17:32.635Z"
   },
   {
    "duration": 44,
    "start_time": "2023-01-26T19:21:29.798Z"
   },
   {
    "duration": 690,
    "start_time": "2023-01-26T19:32:43.376Z"
   },
   {
    "duration": 43,
    "start_time": "2023-01-26T19:32:58.458Z"
   },
   {
    "duration": 672,
    "start_time": "2023-01-26T19:32:59.000Z"
   },
   {
    "duration": 12,
    "start_time": "2023-01-26T19:35:21.335Z"
   },
   {
    "duration": 6,
    "start_time": "2023-01-26T19:37:55.879Z"
   },
   {
    "duration": 44,
    "start_time": "2023-01-26T19:38:18.261Z"
   },
   {
    "duration": 5,
    "start_time": "2023-01-26T19:38:18.307Z"
   },
   {
    "duration": 15,
    "start_time": "2023-01-26T19:41:16.144Z"
   },
   {
    "duration": 22,
    "start_time": "2023-01-26T19:41:21.169Z"
   },
   {
    "duration": 29,
    "start_time": "2023-01-26T19:41:39.117Z"
   },
   {
    "duration": 25,
    "start_time": "2023-01-26T19:54:24.634Z"
   },
   {
    "duration": 35,
    "start_time": "2023-01-26T19:54:49.440Z"
   },
   {
    "duration": 27,
    "start_time": "2023-01-26T19:55:06.708Z"
   },
   {
    "duration": 22,
    "start_time": "2023-01-26T19:55:24.352Z"
   },
   {
    "duration": 18,
    "start_time": "2023-01-26T19:55:32.667Z"
   },
   {
    "duration": 42,
    "start_time": "2023-01-26T19:55:40.670Z"
   },
   {
    "duration": 25,
    "start_time": "2023-01-26T19:55:41.367Z"
   },
   {
    "duration": 13,
    "start_time": "2023-01-26T20:00:18.115Z"
   },
   {
    "duration": 43,
    "start_time": "2023-01-26T20:00:26.967Z"
   },
   {
    "duration": 10,
    "start_time": "2023-01-26T20:00:27.167Z"
   },
   {
    "duration": 35,
    "start_time": "2023-01-26T20:00:33.163Z"
   },
   {
    "duration": 44,
    "start_time": "2023-01-26T20:01:15.251Z"
   },
   {
    "duration": 26,
    "start_time": "2023-01-26T20:01:54.329Z"
   },
   {
    "duration": 52,
    "start_time": "2023-01-26T20:02:01.424Z"
   },
   {
    "duration": 42,
    "start_time": "2023-01-26T20:03:22.128Z"
   },
   {
    "duration": 9,
    "start_time": "2023-01-26T20:03:22.326Z"
   },
   {
    "duration": 51,
    "start_time": "2023-01-26T20:03:23.959Z"
   },
   {
    "duration": 50,
    "start_time": "2023-01-26T20:04:24.527Z"
   },
   {
    "duration": 10,
    "start_time": "2023-01-26T20:10:28.137Z"
   },
   {
    "duration": 14,
    "start_time": "2023-01-26T20:10:34.540Z"
   },
   {
    "duration": 11,
    "start_time": "2023-01-26T20:10:47.974Z"
   },
   {
    "duration": 4,
    "start_time": "2023-01-26T20:10:53.212Z"
   },
   {
    "duration": 25,
    "start_time": "2023-01-26T20:10:53.592Z"
   },
   {
    "duration": 10,
    "start_time": "2023-01-26T20:11:55.604Z"
   },
   {
    "duration": 14,
    "start_time": "2023-01-26T20:12:49.821Z"
   },
   {
    "duration": 49,
    "start_time": "2023-01-26T20:15:23.936Z"
   },
   {
    "duration": 33,
    "start_time": "2023-01-26T20:15:45.445Z"
   },
   {
    "duration": 50,
    "start_time": "2023-01-26T20:16:04.594Z"
   },
   {
    "duration": 58,
    "start_time": "2023-01-26T20:17:21.849Z"
   },
   {
    "duration": 10,
    "start_time": "2023-01-26T20:18:09.102Z"
   },
   {
    "duration": 5,
    "start_time": "2023-01-26T20:18:10.090Z"
   },
   {
    "duration": 8,
    "start_time": "2023-01-26T20:18:10.586Z"
   },
   {
    "duration": 55,
    "start_time": "2023-01-26T20:18:11.602Z"
   },
   {
    "duration": 44,
    "start_time": "2023-01-26T20:18:11.902Z"
   },
   {
    "duration": 3,
    "start_time": "2023-01-26T20:18:14.605Z"
   },
   {
    "duration": 8,
    "start_time": "2023-01-26T20:18:15.886Z"
   },
   {
    "duration": 73,
    "start_time": "2023-01-26T20:18:17.431Z"
   },
   {
    "duration": 5636,
    "start_time": "2023-01-26T20:33:55.063Z"
   },
   {
    "duration": 115,
    "start_time": "2023-01-26T20:34:00.701Z"
   },
   {
    "duration": 1095,
    "start_time": "2023-01-26T20:34:00.817Z"
   },
   {
    "duration": 5,
    "start_time": "2023-01-26T20:34:01.914Z"
   },
   {
    "duration": 33,
    "start_time": "2023-01-26T20:34:01.920Z"
   },
   {
    "duration": 34,
    "start_time": "2023-01-26T20:34:01.955Z"
   },
   {
    "duration": 5,
    "start_time": "2023-01-26T20:34:14.147Z"
   },
   {
    "duration": 10,
    "start_time": "2023-01-26T20:34:15.198Z"
   },
   {
    "duration": 145,
    "start_time": "2023-01-26T20:34:15.622Z"
   },
   {
    "duration": 3,
    "start_time": "2023-01-26T20:34:16.517Z"
   },
   {
    "duration": 9,
    "start_time": "2023-01-26T20:34:16.948Z"
   },
   {
    "duration": 56,
    "start_time": "2023-01-26T20:34:17.393Z"
   },
   {
    "duration": 32979,
    "start_time": "2023-01-26T20:34:19.652Z"
   },
   {
    "duration": 45,
    "start_time": "2023-01-26T20:34:52.633Z"
   },
   {
    "duration": 52933,
    "start_time": "2023-01-26T20:35:00.797Z"
   },
   {
    "duration": 31,
    "start_time": "2023-01-26T20:36:01.254Z"
   },
   {
    "duration": 312369,
    "start_time": "2023-01-26T20:36:06.644Z"
   },
   {
    "duration": 252,
    "start_time": "2023-01-26T20:42:53.724Z"
   },
   {
    "duration": 55548,
    "start_time": "2023-01-26T20:43:05.726Z"
   },
   {
    "duration": 40,
    "start_time": "2023-01-26T20:44:13.515Z"
   },
   {
    "duration": 368719,
    "start_time": "2023-01-26T20:44:17.444Z"
   },
   {
    "duration": 356,
    "start_time": "2023-01-26T20:50:31.018Z"
   },
   {
    "duration": 38,
    "start_time": "2023-01-26T20:50:43.288Z"
   },
   {
    "duration": 123,
    "start_time": "2023-01-26T20:50:54.581Z"
   },
   {
    "duration": 117,
    "start_time": "2023-01-26T20:51:04.346Z"
   },
   {
    "duration": 11547,
    "start_time": "2023-01-26T20:56:53.565Z"
   },
   {
    "duration": 165,
    "start_time": "2023-01-26T20:57:05.114Z"
   },
   {
    "duration": 1121,
    "start_time": "2023-01-26T20:57:05.281Z"
   },
   {
    "duration": 6,
    "start_time": "2023-01-26T20:57:06.405Z"
   },
   {
    "duration": 30,
    "start_time": "2023-01-26T20:57:06.414Z"
   },
   {
    "duration": 35,
    "start_time": "2023-01-26T20:57:06.446Z"
   },
   {
    "duration": 15,
    "start_time": "2023-01-26T20:57:06.483Z"
   },
   {
    "duration": 42,
    "start_time": "2023-01-26T20:57:06.500Z"
   },
   {
    "duration": 143,
    "start_time": "2023-01-26T20:57:06.544Z"
   },
   {
    "duration": 3,
    "start_time": "2023-01-26T20:57:06.728Z"
   },
   {
    "duration": 47,
    "start_time": "2023-01-26T20:57:06.732Z"
   },
   {
    "duration": 93,
    "start_time": "2023-01-26T20:57:06.780Z"
   },
   {
    "duration": 112,
    "start_time": "2023-01-26T20:57:09.225Z"
   },
   {
    "duration": 38,
    "start_time": "2023-01-26T20:57:18.715Z"
   },
   {
    "duration": 602360,
    "start_time": "2023-01-26T20:57:29.450Z"
   },
   {
    "duration": 622,
    "start_time": "2023-01-26T21:08:52.989Z"
   },
   {
    "duration": 459,
    "start_time": "2023-01-26T21:11:33.014Z"
   },
   {
    "duration": 572,
    "start_time": "2023-01-26T21:13:28.452Z"
   },
   {
    "duration": 457,
    "start_time": "2023-01-26T21:13:36.051Z"
   },
   {
    "duration": 425,
    "start_time": "2023-01-26T21:15:07.894Z"
   },
   {
    "duration": 572,
    "start_time": "2023-01-26T21:15:35.614Z"
   },
   {
    "duration": 575,
    "start_time": "2023-01-26T21:16:50.664Z"
   },
   {
    "duration": 25,
    "start_time": "2023-01-26T21:16:58.197Z"
   },
   {
    "duration": 5,
    "start_time": "2023-01-26T21:16:59.663Z"
   },
   {
    "duration": 441,
    "start_time": "2023-01-26T21:18:09.494Z"
   },
   {
    "duration": 17,
    "start_time": "2023-01-26T21:18:12.302Z"
   },
   {
    "duration": 573,
    "start_time": "2023-01-26T21:18:45.046Z"
   },
   {
    "duration": 25,
    "start_time": "2023-01-26T21:18:47.414Z"
   },
   {
    "duration": 5,
    "start_time": "2023-01-26T21:18:53.785Z"
   },
   {
    "duration": 340,
    "start_time": "2023-01-26T21:21:39.048Z"
   },
   {
    "duration": 366,
    "start_time": "2023-01-26T21:21:48.616Z"
   },
   {
    "duration": 24,
    "start_time": "2023-01-26T21:21:50.069Z"
   },
   {
    "duration": 11905,
    "start_time": "2023-01-27T09:56:56.412Z"
   },
   {
    "duration": 151,
    "start_time": "2023-01-27T09:57:08.320Z"
   },
   {
    "duration": 1284,
    "start_time": "2023-01-27T09:57:08.473Z"
   },
   {
    "duration": 5,
    "start_time": "2023-01-27T09:57:09.759Z"
   },
   {
    "duration": 12,
    "start_time": "2023-01-27T09:57:09.765Z"
   },
   {
    "duration": 14,
    "start_time": "2023-01-27T09:57:09.779Z"
   },
   {
    "duration": 7,
    "start_time": "2023-01-27T09:57:09.795Z"
   },
   {
    "duration": 117,
    "start_time": "2023-01-27T09:57:09.803Z"
   },
   {
    "duration": 72,
    "start_time": "2023-01-27T09:57:09.922Z"
   },
   {
    "duration": 3,
    "start_time": "2023-01-27T09:57:09.996Z"
   },
   {
    "duration": 30,
    "start_time": "2023-01-27T09:57:10.000Z"
   },
   {
    "duration": 76,
    "start_time": "2023-01-27T09:57:10.031Z"
   },
   {
    "duration": 47516,
    "start_time": "2023-01-27T09:57:10.109Z"
   },
   {
    "duration": 120,
    "start_time": "2023-01-27T09:57:57.627Z"
   },
   {
    "duration": 59004,
    "start_time": "2023-01-27T09:57:57.750Z"
   },
   {
    "duration": 33,
    "start_time": "2023-01-27T09:58:56.760Z"
   },
   {
    "duration": 344808,
    "start_time": "2023-01-27T09:58:56.795Z"
   },
   {
    "duration": 296,
    "start_time": "2023-01-27T10:04:41.604Z"
   },
   {
    "duration": 61028,
    "start_time": "2023-01-27T10:04:41.902Z"
   },
   {
    "duration": 47,
    "start_time": "2023-01-27T10:05:42.932Z"
   },
   {
    "duration": 405997,
    "start_time": "2023-01-27T10:05:42.981Z"
   },
   {
    "duration": 399,
    "start_time": "2023-01-27T10:12:28.981Z"
   },
   {
    "duration": 41,
    "start_time": "2023-01-27T10:12:29.381Z"
   },
   {
    "duration": 162,
    "start_time": "2023-01-27T10:12:29.424Z"
   },
   {
    "duration": 99495,
    "start_time": "2023-01-27T10:12:29.588Z"
   },
   {
    "duration": 142,
    "start_time": "2023-01-27T10:14:09.084Z"
   },
   {
    "duration": 0,
    "start_time": "2023-01-27T10:14:09.228Z"
   },
   {
    "duration": 0,
    "start_time": "2023-01-27T10:14:09.229Z"
   },
   {
    "duration": 0,
    "start_time": "2023-01-27T10:14:09.230Z"
   },
   {
    "duration": 0,
    "start_time": "2023-01-27T10:14:09.231Z"
   },
   {
    "duration": 0,
    "start_time": "2023-01-27T10:14:09.242Z"
   },
   {
    "duration": 49,
    "start_time": "2023-01-27T11:24:02.564Z"
   },
   {
    "duration": 12806,
    "start_time": "2023-01-27T11:25:04.611Z"
   },
   {
    "duration": 274,
    "start_time": "2023-01-27T11:25:17.419Z"
   },
   {
    "duration": 1257,
    "start_time": "2023-01-27T11:25:17.695Z"
   },
   {
    "duration": 6,
    "start_time": "2023-01-27T11:25:18.954Z"
   },
   {
    "duration": 15,
    "start_time": "2023-01-27T11:25:18.962Z"
   },
   {
    "duration": 20,
    "start_time": "2023-01-27T11:25:18.979Z"
   },
   {
    "duration": 26,
    "start_time": "2023-01-27T11:25:19.002Z"
   },
   {
    "duration": 13,
    "start_time": "2023-01-27T11:25:19.030Z"
   },
   {
    "duration": 149,
    "start_time": "2023-01-27T11:25:19.046Z"
   },
   {
    "duration": 4,
    "start_time": "2023-01-27T11:25:25.640Z"
   },
   {
    "duration": 8,
    "start_time": "2023-01-27T11:25:26.715Z"
   },
   {
    "duration": 83,
    "start_time": "2023-01-27T11:25:27.823Z"
   },
   {
    "duration": 60,
    "start_time": "2023-01-27T11:25:43.515Z"
   },
   {
    "duration": 147,
    "start_time": "2023-01-27T11:25:45.090Z"
   },
   {
    "duration": 84,
    "start_time": "2023-01-27T11:25:50.903Z"
   },
   {
    "duration": 130,
    "start_time": "2023-01-27T11:25:59.216Z"
   },
   {
    "duration": 101,
    "start_time": "2023-01-27T11:28:24.658Z"
   },
   {
    "duration": 11264,
    "start_time": "2023-01-28T12:04:44.922Z"
   },
   {
    "duration": 166,
    "start_time": "2023-01-28T12:04:56.188Z"
   },
   {
    "duration": 1002,
    "start_time": "2023-01-28T12:04:56.355Z"
   },
   {
    "duration": 5,
    "start_time": "2023-01-28T12:04:57.359Z"
   },
   {
    "duration": 14,
    "start_time": "2023-01-28T12:04:57.366Z"
   },
   {
    "duration": 15,
    "start_time": "2023-01-28T12:04:57.381Z"
   },
   {
    "duration": 5,
    "start_time": "2023-01-28T12:04:57.397Z"
   },
   {
    "duration": 99,
    "start_time": "2023-01-28T12:04:57.404Z"
   },
   {
    "duration": 58,
    "start_time": "2023-01-28T12:04:57.504Z"
   },
   {
    "duration": 3,
    "start_time": "2023-01-28T12:04:57.564Z"
   },
   {
    "duration": 11,
    "start_time": "2023-01-28T12:04:57.568Z"
   },
   {
    "duration": 61,
    "start_time": "2023-01-28T12:04:57.581Z"
   },
   {
    "duration": 31368,
    "start_time": "2023-01-28T12:04:57.643Z"
   },
   {
    "duration": 133,
    "start_time": "2023-01-28T12:05:29.013Z"
   },
   {
    "duration": 46470,
    "start_time": "2023-01-28T12:05:29.148Z"
   },
   {
    "duration": 46,
    "start_time": "2023-01-28T12:06:15.620Z"
   },
   {
    "duration": 289012,
    "start_time": "2023-01-28T12:06:15.668Z"
   },
   {
    "duration": 240,
    "start_time": "2023-01-28T12:11:04.682Z"
   },
   {
    "duration": 51298,
    "start_time": "2023-01-28T12:11:04.923Z"
   },
   {
    "duration": 39,
    "start_time": "2023-01-28T12:11:56.222Z"
   },
   {
    "duration": 336925,
    "start_time": "2023-01-28T12:11:56.263Z"
   },
   {
    "duration": 323,
    "start_time": "2023-01-28T12:17:33.189Z"
   },
   {
    "duration": 43,
    "start_time": "2023-01-28T12:17:33.513Z"
   },
   {
    "duration": 113,
    "start_time": "2023-01-28T12:17:33.557Z"
   },
   {
    "duration": 81172,
    "start_time": "2023-01-28T12:17:33.672Z"
   },
   {
    "duration": 72,
    "start_time": "2023-01-28T12:18:54.846Z"
   },
   {
    "duration": 561102,
    "start_time": "2023-01-28T12:18:54.919Z"
   },
   {
    "duration": 616,
    "start_time": "2023-01-28T12:28:16.024Z"
   },
   {
    "duration": 323,
    "start_time": "2023-01-28T12:28:16.642Z"
   },
   {
    "duration": 22,
    "start_time": "2023-01-28T12:28:16.967Z"
   },
   {
    "duration": 10,
    "start_time": "2023-01-28T12:28:16.991Z"
   },
   {
    "duration": 11191,
    "start_time": "2023-02-01T18:03:45.787Z"
   },
   {
    "duration": 168,
    "start_time": "2023-02-01T18:03:56.980Z"
   },
   {
    "duration": 1060,
    "start_time": "2023-02-01T18:03:57.150Z"
   },
   {
    "duration": 5,
    "start_time": "2023-02-01T18:03:58.212Z"
   },
   {
    "duration": 22,
    "start_time": "2023-02-01T18:03:58.218Z"
   },
   {
    "duration": 25,
    "start_time": "2023-02-01T18:03:58.242Z"
   },
   {
    "duration": 33,
    "start_time": "2023-02-01T18:03:58.268Z"
   },
   {
    "duration": 24,
    "start_time": "2023-02-01T18:03:58.303Z"
   },
   {
    "duration": 17,
    "start_time": "2023-02-01T18:04:06.263Z"
   },
   {
    "duration": 10,
    "start_time": "2023-02-01T18:04:14.777Z"
   },
   {
    "duration": 197,
    "start_time": "2023-02-01T18:18:30.250Z"
   },
   {
    "duration": 13,
    "start_time": "2023-02-01T18:19:13.383Z"
   },
   {
    "duration": 5,
    "start_time": "2023-02-01T18:19:13.882Z"
   },
   {
    "duration": 13,
    "start_time": "2023-02-01T18:19:14.498Z"
   },
   {
    "duration": 5,
    "start_time": "2023-02-01T18:19:15.263Z"
   },
   {
    "duration": 12,
    "start_time": "2023-02-01T18:19:16.316Z"
   },
   {
    "duration": 7,
    "start_time": "2023-02-01T18:19:21.833Z"
   },
   {
    "duration": 21,
    "start_time": "2023-02-01T18:19:25.934Z"
   },
   {
    "duration": 4,
    "start_time": "2023-02-01T18:23:01.502Z"
   },
   {
    "duration": 4,
    "start_time": "2023-02-01T18:23:21.136Z"
   },
   {
    "duration": 4,
    "start_time": "2023-02-01T18:23:33.402Z"
   },
   {
    "duration": 4,
    "start_time": "2023-02-01T18:23:39.182Z"
   },
   {
    "duration": 4,
    "start_time": "2023-02-01T18:23:52.490Z"
   },
   {
    "duration": 18,
    "start_time": "2023-02-01T18:24:32.505Z"
   },
   {
    "duration": 18,
    "start_time": "2023-02-01T18:24:45.812Z"
   },
   {
    "duration": 27,
    "start_time": "2023-02-01T18:31:35.321Z"
   },
   {
    "duration": 14,
    "start_time": "2023-02-01T18:32:04.935Z"
   },
   {
    "duration": 13,
    "start_time": "2023-02-01T18:32:07.456Z"
   }
  ],
  "kernelspec": {
   "display_name": "Python 3 (ipykernel)",
   "language": "python",
   "name": "python3"
  },
  "language_info": {
   "codemirror_mode": {
    "name": "ipython",
    "version": 3
   },
   "file_extension": ".py",
   "mimetype": "text/x-python",
   "name": "python",
   "nbconvert_exporter": "python",
   "pygments_lexer": "ipython3",
   "version": "3.9.13"
  },
  "toc": {
   "base_numbering": 1,
   "nav_menu": {},
   "number_sections": true,
   "sideBar": true,
   "skip_h1_title": true,
   "title_cell": "Table of Contents",
   "title_sidebar": "Contents",
   "toc_cell": true,
   "toc_position": {
    "height": "397.323px",
    "left": "162px",
    "top": "110.229px",
    "width": "182.312px"
   },
   "toc_section_display": true,
   "toc_window_display": true
  }
 },
 "nbformat": 4,
 "nbformat_minor": 5
}
